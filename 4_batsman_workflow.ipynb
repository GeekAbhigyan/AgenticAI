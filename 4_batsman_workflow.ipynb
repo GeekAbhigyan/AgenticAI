{
 "cells": [
  {
   "cell_type": "code",
   "execution_count": 64,
   "id": "3b18bed9",
   "metadata": {},
   "outputs": [],
   "source": [
    "from langgraph.graph import StateGraph , START , END\n",
    "from typing import TypedDict"
   ]
  },
  {
   "cell_type": "code",
   "execution_count": 65,
   "id": "87e71204",
   "metadata": {},
   "outputs": [],
   "source": [
    "class BatsmanState(TypedDict):\n",
    "    runs : int\n",
    "    balls: int\n",
    "    fours : int \n",
    "    sixes: int \n",
    "\n",
    "    sr : float \n",
    "    bpb : float \n",
    "    boundary_percent: float \n",
    "    summary : str"
   ]
  },
  {
   "cell_type": "code",
   "execution_count": 66,
   "id": "687da737",
   "metadata": {},
   "outputs": [],
   "source": [
    "def calculate_sr(state:BatsmanState)-> BatsmanState:\n",
    "    runs = state['runs']\n",
    "    balls = state['balls']\n",
    "\n",
    "    answer = (runs/balls) * 100 \n",
    "\n",
    "    return {'sr':answer}"
   ]
  },
  {
   "cell_type": "code",
   "execution_count": 67,
   "id": "9f278c01",
   "metadata": {},
   "outputs": [],
   "source": [
    "def calculate_bpb(state:BatsmanState)-> BatsmanState:\n",
    "    boundaries = state['fours'] + state['sixes']\n",
    "    bpb= state['balls'] / boundaries\n",
    "\n",
    "    return {'bpb':bpb}"
   ]
  },
  {
   "cell_type": "code",
   "execution_count": 68,
   "id": "b7847897",
   "metadata": {},
   "outputs": [],
   "source": [
    "def calc_boundary_percent(state:BatsmanState)-> BatsmanState:\n",
    "    boundary_runs = state['fours'] *4 + state['sixes']*6\n",
    "    boundary_percent= (boundary_runs/state['runs'])*100 \n",
    "\n",
    "    return {'boundary_percent':boundary_percent}"
   ]
  },
  {
   "cell_type": "code",
   "execution_count": 69,
   "id": "d99e2d89",
   "metadata": {},
   "outputs": [],
   "source": [
    "def summary (state:BatsmanState):\n",
    "    summary = f\"\"\"\n",
    "strike rate - {state['sr']} \\n\n",
    "Balls per boundary - {state[\"bpb\"]} \\n\n",
    "boundary percent - {state[\"boundary_percent\"]}\n",
    "\"\"\"\n",
    "\n",
    "    return {'summary':summary}"
   ]
  },
  {
   "cell_type": "code",
   "execution_count": 70,
   "id": "4a358068",
   "metadata": {},
   "outputs": [],
   "source": [
    "#create graph \n",
    "graph = StateGraph(BatsmanState)\n",
    "\n",
    "# add nodes \n",
    "graph.add_node('calculate_sr',calculate_sr)\n",
    "graph.add_node('calculate_bpb',calculate_bpb)\n",
    "graph.add_node(\"calc_boundary_percent\",calc_boundary_percent)\n",
    "graph.add_node('summary', summary)\n",
    "# add edges \n",
    "graph.add_edge(START,'calculate_sr' )\n",
    "graph.add_edge(START,'calculate_bpb' )\n",
    "graph.add_edge(START,'calc_boundary_percent')\n",
    "\n",
    "graph.add_edge('calculate_sr', 'summary')\n",
    "graph.add_edge('calculate_bpb', 'summary')\n",
    "graph.add_edge('calc_boundary_percent', 'summary')\n",
    "\n",
    "graph.add_edge('summary',END)\n",
    "\n",
    "\n",
    "\n",
    "# execute graph \n",
    "workflow = graph.compile()"
   ]
  },
  {
   "cell_type": "code",
   "execution_count": 71,
   "id": "b8f6fc4d",
   "metadata": {},
   "outputs": [
    {
     "data": {
      "image/png": "[encoded data removed]",
      "text/plain": [
       "<langgraph.graph.state.CompiledStateGraph object at 0x000001E59AAB8F50>"
      ]
     },
     "execution_count": 71,
     "metadata": {},
     "output_type": "execute_result"
    }
   ],
   "source": [
    "workflow"
   ]
  },
  {
   "cell_type": "code",
   "execution_count": 72,
   "id": "a371d529",
   "metadata": {},
   "outputs": [
    {
     "data": {
      "text/plain": [
       "{'runs': 100,\n",
       " 'balls': 50,\n",
       " 'fours': 6,\n",
       " 'sixes': 4,\n",
       " 'sr': 200.0,\n",
       " 'bpb': 5.0,\n",
       " 'boundary_percent': 48.0,\n",
       " 'summary': '\\nstrike rate - 200.0 \\n\\nBalls per boundary - 5.0 \\n\\nboundary percent - 48.0\\n'}"
      ]
     },
     "execution_count": 72,
     "metadata": {},
     "output_type": "execute_result"
    }
   ],
   "source": [
    "initial_state = {\n",
    "    'runs': 100,\n",
    "    'balls':50,\n",
    "    'fours':6,\n",
    "    'sixes':4\n",
    "    }\n",
    "\n",
    "final_state = workflow.invoke(initial_state)\n",
    "\n",
    "final_state\n"
   ]
  }
 ],
 "metadata": {
  "kernelspec": {
   "display_name": "myenv (3.13.5)",
   "language": "python",
   "name": "python3"
  },
  "language_info": {
   "codemirror_mode": {
    "name": "ipython",
    "version": 3
   },
   "file_extension": ".py",
   "mimetype": "text/x-python",
   "name": "python",
   "nbconvert_exporter": "python",
   "pygments_lexer": "ipython3",
   "version": "3.13.5"
  }
 },
 "nbformat": 4,
 "nbformat_minor": 5
}
