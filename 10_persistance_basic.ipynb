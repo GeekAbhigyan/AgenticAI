{
 "cells": [
  {
   "cell_type": "code",
   "execution_count": null,
   "id": "729b07c1",
   "metadata": {},
   "outputs": [],
   "source": [
    "from langgraph.graph import StateGraph , START , END\n",
    "from typing import TypedDict \n",
    "from langchain_openai import ChatOpenAI\n",
    "from dotenv import load_dotenv\n",
    "load_dotenv()\n",
    "import os\n",
    "api_key = os.environ.get(\"PERPLEXITY_API_KEY\")\n",
    "llm = ChatOpenAI(\n",
    "    api_key=api_key,\n",
    "    base_url=\"https://api.perplexity.ai\",\n",
    "    model=\"sonar-pro\",\n",
    "    # or another supported Perplexity model\n",
    ")"
   ]
  },
  {
   "cell_type": "code",
   "execution_count": 13,
   "id": "5b1cf173",
   "metadata": {},
   "outputs": [],
   "source": [
    "from langgraph.checkpoint.memory import InMemorySaver"
   ]
  },
  {
   "cell_type": "code",
   "execution_count": 14,
   "id": "f076e6f6",
   "metadata": {},
   "outputs": [],
   "source": [
    "class JokeState(TypedDict):\n",
    "    topic : str\n",
    "    joke : str\n",
    "    explaination : str  "
   ]
  },
  {
   "cell_type": "code",
   "execution_count": 15,
   "id": "b5d61cd4",
   "metadata": {},
   "outputs": [],
   "source": [
    "def generate_joke(state:JokeState)->JokeState:\n",
    "    prompt = f'Write a joke about {state[\"topic\"]}'\n",
    "    response = llm.invoke(prompt).content\n",
    "\n",
    "    return {'joke':response}\n",
    "\n",
    "def generate_explaination(state:JokeState)->JokeState:\n",
    "    prompt = f'Explain the joke \"{state[\"joke\"]}\"'\n",
    "    response = llm.invoke(prompt)\n",
    "\n",
    "    return {'explaination':response.content}"
   ]
  },
  {
   "cell_type": "code",
   "execution_count": 16,
   "id": "5c5b4e8b",
   "metadata": {},
   "outputs": [],
   "source": [
    "#create graph\n",
    "graph = StateGraph(JokeState)\n",
    "#create nodes \n",
    "graph.add_node(\"generate_joke\", generate_joke)\n",
    "graph.add_node(\"generate_explaination\", generate_explaination )\n",
    "#create edges\n",
    "graph.add_edge(START , \"generate_joke\")\n",
    "graph.add_edge(\"generate_joke\" , \"generate_explaination\")\n",
    "graph.add_edge(\"generate_explaination\" , END)\n",
    "\n",
    "# add checkpointer object \n",
    "checkpointer = InMemorySaver()\n",
    "\n",
    "#compile the graph\n",
    "workflow = graph.compile(checkpointer=checkpointer)\n"
   ]
  },
  {
   "cell_type": "code",
   "execution_count": null,
   "id": "ca0a211d",
   "metadata": {},
   "outputs": [
    {
     "data": {
      "text/plain": [
       "StateSnapshot(values={'topic': 'dogs', 'joke': 'Why did the dog sit in the shade? Because he didn’t want to be a hot dog[2][3][4].\\n\\nFor more dog laughs:\\n- What do you call a dog magician? **A labracadabrador**[2].\\n- Why are dogs such bad dancers? **They have two left feet**[2][3].\\n- What kind of dog never throws anything away? **A hoarder collie**[3].\\n\\nThese playful puns capture the humor that dog lovers enjoy about their furry friends.', 'explaination': 'The joke \"Why did the dog sit in the shade? Because he didn’t want to be a hot dog\" is a play on words that uses the double meaning of \"hot dog\"[1][2]. The humor comes from the *pun*:\\n\\n- **\"Hot dog\"** can refer to a dog that is hot from being in the sun, but it is also the name for the popular food item (a sausage in a bun)[1].\\n- The joke imagines a literal dog avoiding heat to not become a \"hot dog\" (as in an overheated canine), while also making a playful reference to the food (as if the dog doesn\\'t want to become a sausage snack).\\n\\nThis type of wordplay, where two meanings are used for comedic effect, is called a pun and is common in lighthearted animal jokes for children and adults alike[2][3].'}, next=(), config={'configurable': {'thread_id': '1', 'checkpoint_ns': '', 'checkpoint_id': '1f0780dd-138f-6818-8002-80aa77dda6bb'}}, metadata={'source': 'loop', 'step': 2, 'parents': {}}, created_at='2025-08-13T06:21:58.856487+00:00', parent_config={'configurable': {'thread_id': '1', 'checkpoint_ns': '', 'checkpoint_id': '1f0780dc-ecbc-6977-8001-838eeccf2530'}}, tasks=(), interrupts=())"
      ]
     },
     "execution_count": 21,
     "metadata": {},
     "output_type": "execute_result"
    }
   ],
   "source": [
    "config1 = {\"configurable\":{\"thread_id\":\"1\"}}\n",
    "workflow.invoke({'topic':'dogs'} , config=config1)\n",
    "\n",
    "workflow.get_state(config1)"
   ]
  },
  {
   "cell_type": "code",
   "execution_count": 22,
   "id": "8b4e3be4",
   "metadata": {},
   "outputs": [
    {
     "data": {
      "text/plain": [
       "[StateSnapshot(values={'topic': 'dogs', 'joke': 'Why did the dog sit in the shade? Because he didn’t want to be a hot dog[2][3][4].\\n\\nFor more dog laughs:\\n- What do you call a dog magician? **A labracadabrador**[2].\\n- Why are dogs such bad dancers? **They have two left feet**[2][3].\\n- What kind of dog never throws anything away? **A hoarder collie**[3].\\n\\nThese playful puns capture the humor that dog lovers enjoy about their furry friends.', 'explaination': 'The joke \"Why did the dog sit in the shade? Because he didn’t want to be a hot dog\" is a play on words that uses the double meaning of \"hot dog\"[1][2]. The humor comes from the *pun*:\\n\\n- **\"Hot dog\"** can refer to a dog that is hot from being in the sun, but it is also the name for the popular food item (a sausage in a bun)[1].\\n- The joke imagines a literal dog avoiding heat to not become a \"hot dog\" (as in an overheated canine), while also making a playful reference to the food (as if the dog doesn\\'t want to become a sausage snack).\\n\\nThis type of wordplay, where two meanings are used for comedic effect, is called a pun and is common in lighthearted animal jokes for children and adults alike[2][3].'}, next=(), config={'configurable': {'thread_id': '1', 'checkpoint_ns': '', 'checkpoint_id': '1f0780dd-138f-6818-8002-80aa77dda6bb'}}, metadata={'source': 'loop', 'step': 2, 'parents': {}}, created_at='2025-08-13T06:21:58.856487+00:00', parent_config={'configurable': {'thread_id': '1', 'checkpoint_ns': '', 'checkpoint_id': '1f0780dc-ecbc-6977-8001-838eeccf2530'}}, tasks=(), interrupts=()),\n",
       " StateSnapshot(values={'topic': 'dogs', 'joke': 'Why did the dog sit in the shade? Because he didn’t want to be a hot dog[2][3][4].\\n\\nFor more dog laughs:\\n- What do you call a dog magician? **A labracadabrador**[2].\\n- Why are dogs such bad dancers? **They have two left feet**[2][3].\\n- What kind of dog never throws anything away? **A hoarder collie**[3].\\n\\nThese playful puns capture the humor that dog lovers enjoy about their furry friends.'}, next=('generate_explaination',), config={'configurable': {'thread_id': '1', 'checkpoint_ns': '', 'checkpoint_id': '1f0780dc-ecbc-6977-8001-838eeccf2530'}}, metadata={'source': 'loop', 'step': 1, 'parents': {}}, created_at='2025-08-13T06:21:54.785503+00:00', parent_config={'configurable': {'thread_id': '1', 'checkpoint_ns': '', 'checkpoint_id': '1f0780dc-c6fb-6eb2-8000-ae82a707edc6'}}, tasks=(PregelTask(id='281ad4ca-9e2a-439d-825b-2f35b75de260', name='generate_explaination', path=('__pregel_pull', 'generate_explaination'), error=None, interrupts=(), state=None, result={'explaination': 'The joke \"Why did the dog sit in the shade? Because he didn’t want to be a hot dog\" is a play on words that uses the double meaning of \"hot dog\"[1][2]. The humor comes from the *pun*:\\n\\n- **\"Hot dog\"** can refer to a dog that is hot from being in the sun, but it is also the name for the popular food item (a sausage in a bun)[1].\\n- The joke imagines a literal dog avoiding heat to not become a \"hot dog\" (as in an overheated canine), while also making a playful reference to the food (as if the dog doesn\\'t want to become a sausage snack).\\n\\nThis type of wordplay, where two meanings are used for comedic effect, is called a pun and is common in lighthearted animal jokes for children and adults alike[2][3].'}),), interrupts=()),\n",
       " StateSnapshot(values={'topic': 'dogs'}, next=('generate_joke',), config={'configurable': {'thread_id': '1', 'checkpoint_ns': '', 'checkpoint_id': '1f0780dc-c6fb-6eb2-8000-ae82a707edc6'}}, metadata={'source': 'loop', 'step': 0, 'parents': {}}, created_at='2025-08-13T06:21:50.826846+00:00', parent_config={'configurable': {'thread_id': '1', 'checkpoint_ns': '', 'checkpoint_id': '1f0780dc-c6e7-66fe-bfff-9991bf3e9c89'}}, tasks=(PregelTask(id='46efc526-18d9-85ce-45a7-282cc2d60dd6', name='generate_joke', path=('__pregel_pull', 'generate_joke'), error=None, interrupts=(), state=None, result={'joke': 'Why did the dog sit in the shade? Because he didn’t want to be a hot dog[2][3][4].\\n\\nFor more dog laughs:\\n- What do you call a dog magician? **A labracadabrador**[2].\\n- Why are dogs such bad dancers? **They have two left feet**[2][3].\\n- What kind of dog never throws anything away? **A hoarder collie**[3].\\n\\nThese playful puns capture the humor that dog lovers enjoy about their furry friends.'}),), interrupts=()),\n",
       " StateSnapshot(values={}, next=('__start__',), config={'configurable': {'thread_id': '1', 'checkpoint_ns': '', 'checkpoint_id': '1f0780dc-c6e7-66fe-bfff-9991bf3e9c89'}}, metadata={'source': 'input', 'step': -1, 'parents': {}}, created_at='2025-08-13T06:21:50.818406+00:00', parent_config=None, tasks=(PregelTask(id='155e28c2-f809-5ac8-2377-05e192e4c243', name='__start__', path=('__pregel_pull', '__start__'), error=None, interrupts=(), state=None, result={'topic': 'dogs'}),), interrupts=())]"
      ]
     },
     "execution_count": 22,
     "metadata": {},
     "output_type": "execute_result"
    }
   ],
   "source": [
    "list(workflow.get_state_history(config1))"
   ]
  },
  {
   "cell_type": "code",
   "execution_count": null,
   "id": "6cc00358",
   "metadata": {},
   "outputs": [
    {
     "data": {
      "text/plain": [
       "StateSnapshot(values={'topic': 'pasta', 'joke': 'What do you call a fake noodle?  \\n**An impasta.**[1]\\n\\nFor extra context, pasta jokes often rely on wordplay and puns using pasta types or Italian food terminology, making them popular \"dad jokes\" as well as a light-hearted way to play with language[1][2]. If you’d like another, here’s a bonus:  \\nDid you hear about the Italian chef who died?  \\nHe **pasta** way[1][2].', 'explaination': 'The joke \"What do you call a fake noodle?  \\n**An impasta.**\" is a pun combining the words **\"imposter\"** (someone who pretends to be someone else) and **\"pasta\"** (a type of noodle)[1][3][4]. The humor comes from the similar sounds of \"imposter\" and \"impasta,\" making it sound like a word for a fake noodle—literally, an \"im-pasta\"[1][3][4].\\n\\nPasta jokes often rely on wordplay using pasta or Italian food terms, and are commonly found in the \"dad joke\" style—simple puns or one-liners that are inoffensive and easy to understand[1][4]. The bonus joke, \"Did you hear about the Italian chef who died? He pasta way,\" follows a similar pattern, using \"pasta\" to sound like \"passed\" for a lighthearted pun[1].\\n\\nThese jokes are popular for their accessible humor and clever use of language, making them enjoyable for all ages[1][4].'}, next=(), config={'configurable': {'thread_id': '2', 'checkpoint_ns': '', 'checkpoint_id': '1f07823d-7bea-6df0-800e-b76594755e83'}}, metadata={'source': 'loop', 'step': 14, 'parents': {}}, created_at='2025-08-13T08:59:38.727151+00:00', parent_config={'configurable': {'thread_id': '2', 'checkpoint_ns': '', 'checkpoint_id': '1f07823d-397e-6ba0-800d-f9d413b4b651'}}, tasks=(), interrupts=())"
      ]
     },
     "execution_count": 26,
     "metadata": {},
     "output_type": "execute_result"
    }
   ],
   "source": [
    "config2 = {\"configurable\":{\"thread_id\":\"2\"}}\n",
    "workflow.invoke({'topic':'pasta'}, config=config2)\n",
    "\n",
    "\n",
    "workflow.get_state(config2)"
   ]
  },
  {
   "cell_type": "code",
   "execution_count": null,
   "id": "54101df4",
   "metadata": {},
   "outputs": [
    {
     "data": {
      "text/plain": [
       "[StateSnapshot(values={'topic': 'pasta', 'joke': 'What do you call a fake noodle?  \\n**An impasta.**[1]\\n\\nFor extra context, pasta jokes often rely on wordplay and puns using pasta types or Italian food terminology, making them popular \"dad jokes\" as well as a light-hearted way to play with language[1][2]. If you’d like another, here’s a bonus:  \\nDid you hear about the Italian chef who died?  \\nHe **pasta** way[1][2].', 'explaination': 'The joke \"What do you call a fake noodle?  \\n**An impasta.**\" is a pun combining the words **\"imposter\"** (someone who pretends to be someone else) and **\"pasta\"** (a type of noodle)[1][3][4]. The humor comes from the similar sounds of \"imposter\" and \"impasta,\" making it sound like a word for a fake noodle—literally, an \"im-pasta\"[1][3][4].\\n\\nPasta jokes often rely on wordplay using pasta or Italian food terms, and are commonly found in the \"dad joke\" style—simple puns or one-liners that are inoffensive and easy to understand[1][4]. The bonus joke, \"Did you hear about the Italian chef who died? He pasta way,\" follows a similar pattern, using \"pasta\" to sound like \"passed\" for a lighthearted pun[1].\\n\\nThese jokes are popular for their accessible humor and clever use of language, making them enjoyable for all ages[1][4].'}, next=(), config={'configurable': {'thread_id': '2', 'checkpoint_ns': '', 'checkpoint_id': '1f07823d-7bea-6df0-800e-b76594755e83'}}, metadata={'source': 'loop', 'step': 14, 'parents': {}}, created_at='2025-08-13T08:59:38.727151+00:00', parent_config={'configurable': {'thread_id': '2', 'checkpoint_ns': '', 'checkpoint_id': '1f07823d-397e-6ba0-800d-f9d413b4b651'}}, tasks=(), interrupts=()),\n",
       " StateSnapshot(values={'topic': 'pasta', 'joke': 'What do you call a fake noodle?  \\n**An impasta.**[1]\\n\\nFor extra context, pasta jokes often rely on wordplay and puns using pasta types or Italian food terminology, making them popular \"dad jokes\" as well as a light-hearted way to play with language[1][2]. If you’d like another, here’s a bonus:  \\nDid you hear about the Italian chef who died?  \\nHe **pasta** way[1][2].', 'explaination': 'The joke \"What do you call a fake noodle? **An impasta**\" is a pun that combines the words \"*imposter*\" (meaning a person who pretends to be someone else) and \"*pasta*\" (a type of noodle), resulting in \"*impasta*\"—a humorous play on words referring to a noodle that is not real[1][3][5].\\n\\nThe humor comes from the similarity in pronunciation between *imposter* and *impasta*, which makes the answer sound like it could be an actual kind of Italian food, while in reality it\\'s referencing someone or something fake[1][3][5]. This style of joke is common in \"dad jokes\" and puns, where two unrelated ideas are joined through a word that sounds like both, eliciting a groan or laugh through clever wordplay[1][2][3][5]. \\n\\nOther examples of pasta puns that follow this format include:\\n- \"Why couldn’t the pasta get into his house? Because he had gnocchi!\" (*sounds like \"no key\"*).\\n- \"Did you hear about the Italian chef who died? He pasta way!\" (*sounds like \"passed away\"*).\\n\\nThese jokes rely on the audience recognizing the double meaning for their comedic effect[1][2].'}, next=('generate_explaination',), config={'configurable': {'thread_id': '2', 'checkpoint_ns': '', 'checkpoint_id': '1f07823d-397e-6ba0-800d-f9d413b4b651'}}, metadata={'source': 'loop', 'step': 13, 'parents': {}}, created_at='2025-08-13T08:59:31.762247+00:00', parent_config={'configurable': {'thread_id': '2', 'checkpoint_ns': '', 'checkpoint_id': '1f07823d-0885-6997-800c-bd33e1b7b64b'}}, tasks=(PregelTask(id='c63840f5-7b43-a5b6-f6dc-e3aa9a2e0adc', name='generate_explaination', path=('__pregel_pull', 'generate_explaination'), error=None, interrupts=(), state=None, result={'explaination': 'The joke \"What do you call a fake noodle?  \\n**An impasta.**\" is a pun combining the words **\"imposter\"** (someone who pretends to be someone else) and **\"pasta\"** (a type of noodle)[1][3][4]. The humor comes from the similar sounds of \"imposter\" and \"impasta,\" making it sound like a word for a fake noodle—literally, an \"im-pasta\"[1][3][4].\\n\\nPasta jokes often rely on wordplay using pasta or Italian food terms, and are commonly found in the \"dad joke\" style—simple puns or one-liners that are inoffensive and easy to understand[1][4]. The bonus joke, \"Did you hear about the Italian chef who died? He pasta way,\" follows a similar pattern, using \"pasta\" to sound like \"passed\" for a lighthearted pun[1].\\n\\nThese jokes are popular for their accessible humor and clever use of language, making them enjoyable for all ages[1][4].'}),), interrupts=()),\n",
       " StateSnapshot(values={'topic': 'pasta', 'joke': 'What do you call a fake noodle?  \\n**An impasta.**[1][2]\\n\\nThis joke is widely cited as a classic pasta pun and is considered a great example of pasta humor[1][2]. Other popular pasta jokes include:  \\n- Why couldn’t the pasta get into his house? Because he had gnocchi![1][2]\\n- Did you hear about the Italian chef who died? He pasta way![1][2]\\n\\nThese jokes use wordplay and puns on common pasta names for their humor.', 'explaination': 'The joke \"What do you call a fake noodle? **An impasta**\" is a pun that combines the words \"*imposter*\" (meaning a person who pretends to be someone else) and \"*pasta*\" (a type of noodle), resulting in \"*impasta*\"—a humorous play on words referring to a noodle that is not real[1][3][5].\\n\\nThe humor comes from the similarity in pronunciation between *imposter* and *impasta*, which makes the answer sound like it could be an actual kind of Italian food, while in reality it\\'s referencing someone or something fake[1][3][5]. This style of joke is common in \"dad jokes\" and puns, where two unrelated ideas are joined through a word that sounds like both, eliciting a groan or laugh through clever wordplay[1][2][3][5]. \\n\\nOther examples of pasta puns that follow this format include:\\n- \"Why couldn’t the pasta get into his house? Because he had gnocchi!\" (*sounds like \"no key\"*).\\n- \"Did you hear about the Italian chef who died? He pasta way!\" (*sounds like \"passed away\"*).\\n\\nThese jokes rely on the audience recognizing the double meaning for their comedic effect[1][2].'}, next=('generate_joke',), config={'configurable': {'thread_id': '2', 'checkpoint_ns': '', 'checkpoint_id': '1f07823d-0885-6997-800c-bd33e1b7b64b'}}, metadata={'source': 'loop', 'step': 12, 'parents': {}}, created_at='2025-08-13T08:59:26.627035+00:00', parent_config={'configurable': {'thread_id': '2', 'checkpoint_ns': '', 'checkpoint_id': '1f07823d-0877-6427-800b-edffa992baab'}}, tasks=(PregelTask(id='13575d18-99b3-6821-fffd-df271fe276c8', name='generate_joke', path=('__pregel_pull', 'generate_joke'), error=None, interrupts=(), state=None, result={'joke': 'What do you call a fake noodle?  \\n**An impasta.**[1]\\n\\nFor extra context, pasta jokes often rely on wordplay and puns using pasta types or Italian food terminology, making them popular \"dad jokes\" as well as a light-hearted way to play with language[1][2]. If you’d like another, here’s a bonus:  \\nDid you hear about the Italian chef who died?  \\nHe **pasta** way[1][2].'}),), interrupts=()),\n",
       " StateSnapshot(values={'topic': 'pasta', 'joke': 'What do you call a fake noodle?  \\n**An impasta.**[1][2]\\n\\nThis joke is widely cited as a classic pasta pun and is considered a great example of pasta humor[1][2]. Other popular pasta jokes include:  \\n- Why couldn’t the pasta get into his house? Because he had gnocchi![1][2]\\n- Did you hear about the Italian chef who died? He pasta way![1][2]\\n\\nThese jokes use wordplay and puns on common pasta names for their humor.', 'explaination': 'The joke \"What do you call a fake noodle? **An impasta**\" is a pun that combines the words \"*imposter*\" (meaning a person who pretends to be someone else) and \"*pasta*\" (a type of noodle), resulting in \"*impasta*\"—a humorous play on words referring to a noodle that is not real[1][3][5].\\n\\nThe humor comes from the similarity in pronunciation between *imposter* and *impasta*, which makes the answer sound like it could be an actual kind of Italian food, while in reality it\\'s referencing someone or something fake[1][3][5]. This style of joke is common in \"dad jokes\" and puns, where two unrelated ideas are joined through a word that sounds like both, eliciting a groan or laugh through clever wordplay[1][2][3][5]. \\n\\nOther examples of pasta puns that follow this format include:\\n- \"Why couldn’t the pasta get into his house? Because he had gnocchi!\" (*sounds like \"no key\"*).\\n- \"Did you hear about the Italian chef who died? He pasta way!\" (*sounds like \"passed away\"*).\\n\\nThese jokes rely on the audience recognizing the double meaning for their comedic effect[1][2].'}, next=('__start__',), config={'configurable': {'thread_id': '2', 'checkpoint_ns': '', 'checkpoint_id': '1f07823d-0877-6427-800b-edffa992baab'}}, metadata={'source': 'input', 'step': 11, 'parents': {}}, created_at='2025-08-13T08:59:26.621167+00:00', parent_config={'configurable': {'thread_id': '2', 'checkpoint_ns': '', 'checkpoint_id': '1f07823a-ee94-6ecc-800a-f171de77c1d4'}}, tasks=(PregelTask(id='fd454723-b49b-7721-388f-554217378a30', name='__start__', path=('__pregel_pull', '__start__'), error=None, interrupts=(), state=None, result={'topic': 'pasta'}),), interrupts=()),\n",
       " StateSnapshot(values={'topic': 'pasta', 'joke': 'What do you call a fake noodle?  \\n**An impasta.**[1][2]\\n\\nThis joke is widely cited as a classic pasta pun and is considered a great example of pasta humor[1][2]. Other popular pasta jokes include:  \\n- Why couldn’t the pasta get into his house? Because he had gnocchi![1][2]\\n- Did you hear about the Italian chef who died? He pasta way![1][2]\\n\\nThese jokes use wordplay and puns on common pasta names for their humor.', 'explaination': 'The joke \"What do you call a fake noodle? **An impasta**\" is a pun that combines the words \"*imposter*\" (meaning a person who pretends to be someone else) and \"*pasta*\" (a type of noodle), resulting in \"*impasta*\"—a humorous play on words referring to a noodle that is not real[1][3][5].\\n\\nThe humor comes from the similarity in pronunciation between *imposter* and *impasta*, which makes the answer sound like it could be an actual kind of Italian food, while in reality it\\'s referencing someone or something fake[1][3][5]. This style of joke is common in \"dad jokes\" and puns, where two unrelated ideas are joined through a word that sounds like both, eliciting a groan or laugh through clever wordplay[1][2][3][5]. \\n\\nOther examples of pasta puns that follow this format include:\\n- \"Why couldn’t the pasta get into his house? Because he had gnocchi!\" (*sounds like \"no key\"*).\\n- \"Did you hear about the Italian chef who died? He pasta way!\" (*sounds like \"passed away\"*).\\n\\nThese jokes rely on the audience recognizing the double meaning for their comedic effect[1][2].'}, next=(), config={'configurable': {'thread_id': '2', 'checkpoint_ns': '', 'checkpoint_id': '1f07823a-ee94-6ecc-800a-f171de77c1d4'}}, metadata={'source': 'loop', 'step': 10, 'parents': {}}, created_at='2025-08-13T08:58:30.219914+00:00', parent_config={'configurable': {'thread_id': '2', 'checkpoint_ns': '', 'checkpoint_id': '1f07823a-bb36-65d8-8009-88511bb89caf'}}, tasks=(), interrupts=()),\n",
       " StateSnapshot(values={'topic': 'pasta', 'joke': 'What do you call a fake noodle?  \\n**An impasta.**[1][2]\\n\\nThis joke is widely cited as a classic pasta pun and is considered a great example of pasta humor[1][2]. Other popular pasta jokes include:  \\n- Why couldn’t the pasta get into his house? Because he had gnocchi![1][2]\\n- Did you hear about the Italian chef who died? He pasta way![1][2]\\n\\nThese jokes use wordplay and puns on common pasta names for their humor.', 'explaination': 'The joke \"What do you call a fake noodle? **An impasta**\" is a pun that combines the words **impostor** (someone pretending to be something they aren\\'t) and **pasta** (such as noodles)[1][2][4]. The humor comes from the wordplay: a \"fake noodle\" sounds like \"impostor,\" and since pasta refers to noodles, the pun \"impasta\" fits both meanings.\\n\\nThis joke is an example of a **dad joke**, which typically features simple wordplay or puns for lighthearted humor[3]. Other similar pasta puns include:\\n\\n- **He pasta way**: Replaces \"passed away\" with \"pasta\" for a food-themed twist[1][2].\\n- **Pasta la vista!**: A play on \"Hasta la vista,\" using \"pasta\" instead[2].\\n- **Meatball**: Where pasta goes to dance—the \"ball\" becomes a \"meatball\"[1][2].\\n- *Spaghetti*: \"He’s a little spaghetti\" twists the pasta name with the phrase \"a little go-getter\" or similar[2].\\n\\nThese jokes rely on familiar **pasta names** and **food-related terms**, creating amusing puns by substituting them into common English phrases or words for comic effect.'}, next=('generate_explaination',), config={'configurable': {'thread_id': '2', 'checkpoint_ns': '', 'checkpoint_id': '1f07823a-bb36-65d8-8009-88511bb89caf'}}, metadata={'source': 'loop', 'step': 9, 'parents': {}}, created_at='2025-08-13T08:58:24.833444+00:00', parent_config={'configurable': {'thread_id': '2', 'checkpoint_ns': '', 'checkpoint_id': '1f07823a-8e32-679b-8008-432dc441df1d'}}, tasks=(PregelTask(id='a4bfc2b9-4986-149d-df97-cbbb9f1e5cf1', name='generate_explaination', path=('__pregel_pull', 'generate_explaination'), error=None, interrupts=(), state=None, result={'explaination': 'The joke \"What do you call a fake noodle? **An impasta**\" is a pun that combines the words \"*imposter*\" (meaning a person who pretends to be someone else) and \"*pasta*\" (a type of noodle), resulting in \"*impasta*\"—a humorous play on words referring to a noodle that is not real[1][3][5].\\n\\nThe humor comes from the similarity in pronunciation between *imposter* and *impasta*, which makes the answer sound like it could be an actual kind of Italian food, while in reality it\\'s referencing someone or something fake[1][3][5]. This style of joke is common in \"dad jokes\" and puns, where two unrelated ideas are joined through a word that sounds like both, eliciting a groan or laugh through clever wordplay[1][2][3][5]. \\n\\nOther examples of pasta puns that follow this format include:\\n- \"Why couldn’t the pasta get into his house? Because he had gnocchi!\" (*sounds like \"no key\"*).\\n- \"Did you hear about the Italian chef who died? He pasta way!\" (*sounds like \"passed away\"*).\\n\\nThese jokes rely on the audience recognizing the double meaning for their comedic effect[1][2].'}),), interrupts=()),\n",
       " StateSnapshot(values={'topic': 'pasta', 'joke': 'What do you call a fake noodle?  \\n**An impasta**[1][2][4].\\n\\nOther pasta jokes you might enjoy include:\\n- Why did the pasta get invited to every party? Because he’s a little *spaghetti*![2]\\n- Did you hear about the Italian chef who died? He **pasta way**[1][2].\\n- Where does pasta go to dance? The **meatball**[1][2].\\n- How do you say goodbye to an Italian chef? **Pasta la vista!**[2]\\n\\nThese jokes use puns with popular pasta names and Italian food terms for humorous effect.', 'explaination': 'The joke \"What do you call a fake noodle? **An impasta**\" is a pun that combines the words **impostor** (someone pretending to be something they aren\\'t) and **pasta** (such as noodles)[1][2][4]. The humor comes from the wordplay: a \"fake noodle\" sounds like \"impostor,\" and since pasta refers to noodles, the pun \"impasta\" fits both meanings.\\n\\nThis joke is an example of a **dad joke**, which typically features simple wordplay or puns for lighthearted humor[3]. Other similar pasta puns include:\\n\\n- **He pasta way**: Replaces \"passed away\" with \"pasta\" for a food-themed twist[1][2].\\n- **Pasta la vista!**: A play on \"Hasta la vista,\" using \"pasta\" instead[2].\\n- **Meatball**: Where pasta goes to dance—the \"ball\" becomes a \"meatball\"[1][2].\\n- *Spaghetti*: \"He’s a little spaghetti\" twists the pasta name with the phrase \"a little go-getter\" or similar[2].\\n\\nThese jokes rely on familiar **pasta names** and **food-related terms**, creating amusing puns by substituting them into common English phrases or words for comic effect.'}, next=('generate_joke',), config={'configurable': {'thread_id': '2', 'checkpoint_ns': '', 'checkpoint_id': '1f07823a-8e32-679b-8008-432dc441df1d'}}, metadata={'source': 'loop', 'step': 8, 'parents': {}}, created_at='2025-08-13T08:58:20.113270+00:00', parent_config={'configurable': {'thread_id': '2', 'checkpoint_ns': '', 'checkpoint_id': '1f07823a-8e29-6c88-8007-a70c230e0f11'}}, tasks=(PregelTask(id='73789c9f-1438-77a1-256d-a92808bb3bdd', name='generate_joke', path=('__pregel_pull', 'generate_joke'), error=None, interrupts=(), state=None, result={'joke': 'What do you call a fake noodle?  \\n**An impasta.**[1][2]\\n\\nThis joke is widely cited as a classic pasta pun and is considered a great example of pasta humor[1][2]. Other popular pasta jokes include:  \\n- Why couldn’t the pasta get into his house? Because he had gnocchi![1][2]\\n- Did you hear about the Italian chef who died? He pasta way![1][2]\\n\\nThese jokes use wordplay and puns on common pasta names for their humor.'}),), interrupts=()),\n",
       " StateSnapshot(values={'topic': 'pasta', 'joke': 'What do you call a fake noodle?  \\n**An impasta**[1][2][4].\\n\\nOther pasta jokes you might enjoy include:\\n- Why did the pasta get invited to every party? Because he’s a little *spaghetti*![2]\\n- Did you hear about the Italian chef who died? He **pasta way**[1][2].\\n- Where does pasta go to dance? The **meatball**[1][2].\\n- How do you say goodbye to an Italian chef? **Pasta la vista!**[2]\\n\\nThese jokes use puns with popular pasta names and Italian food terms for humorous effect.', 'explaination': 'The joke \"What do you call a fake noodle? **An impasta**\" is a pun that combines the words **impostor** (someone pretending to be something they aren\\'t) and **pasta** (such as noodles)[1][2][4]. The humor comes from the wordplay: a \"fake noodle\" sounds like \"impostor,\" and since pasta refers to noodles, the pun \"impasta\" fits both meanings.\\n\\nThis joke is an example of a **dad joke**, which typically features simple wordplay or puns for lighthearted humor[3]. Other similar pasta puns include:\\n\\n- **He pasta way**: Replaces \"passed away\" with \"pasta\" for a food-themed twist[1][2].\\n- **Pasta la vista!**: A play on \"Hasta la vista,\" using \"pasta\" instead[2].\\n- **Meatball**: Where pasta goes to dance—the \"ball\" becomes a \"meatball\"[1][2].\\n- *Spaghetti*: \"He’s a little spaghetti\" twists the pasta name with the phrase \"a little go-getter\" or similar[2].\\n\\nThese jokes rely on familiar **pasta names** and **food-related terms**, creating amusing puns by substituting them into common English phrases or words for comic effect.'}, next=('__start__',), config={'configurable': {'thread_id': '2', 'checkpoint_ns': '', 'checkpoint_id': '1f07823a-8e29-6c88-8007-a70c230e0f11'}}, metadata={'source': 'input', 'step': 7, 'parents': {}}, created_at='2025-08-13T08:58:20.109677+00:00', parent_config={'configurable': {'thread_id': '2', 'checkpoint_ns': '', 'checkpoint_id': '1f078238-8565-626a-8006-53dad008565f'}}, tasks=(PregelTask(id='d018eea1-779f-1fb8-4f08-7c6b497361ad', name='__start__', path=('__pregel_pull', '__start__'), error=None, interrupts=(), state=None, result={'topic': 'pasta'}),), interrupts=()),\n",
       " StateSnapshot(values={'topic': 'pasta', 'joke': 'What do you call a fake noodle?  \\n**An impasta**[1][2][4].\\n\\nOther pasta jokes you might enjoy include:\\n- Why did the pasta get invited to every party? Because he’s a little *spaghetti*![2]\\n- Did you hear about the Italian chef who died? He **pasta way**[1][2].\\n- Where does pasta go to dance? The **meatball**[1][2].\\n- How do you say goodbye to an Italian chef? **Pasta la vista!**[2]\\n\\nThese jokes use puns with popular pasta names and Italian food terms for humorous effect.', 'explaination': 'The joke \"What do you call a fake noodle? **An impasta**\" is a pun that combines the words **impostor** (someone pretending to be something they aren\\'t) and **pasta** (such as noodles)[1][2][4]. The humor comes from the wordplay: a \"fake noodle\" sounds like \"impostor,\" and since pasta refers to noodles, the pun \"impasta\" fits both meanings.\\n\\nThis joke is an example of a **dad joke**, which typically features simple wordplay or puns for lighthearted humor[3]. Other similar pasta puns include:\\n\\n- **He pasta way**: Replaces \"passed away\" with \"pasta\" for a food-themed twist[1][2].\\n- **Pasta la vista!**: A play on \"Hasta la vista,\" using \"pasta\" instead[2].\\n- **Meatball**: Where pasta goes to dance—the \"ball\" becomes a \"meatball\"[1][2].\\n- *Spaghetti*: \"He’s a little spaghetti\" twists the pasta name with the phrase \"a little go-getter\" or similar[2].\\n\\nThese jokes rely on familiar **pasta names** and **food-related terms**, creating amusing puns by substituting them into common English phrases or words for comic effect.'}, next=(), config={'configurable': {'thread_id': '2', 'checkpoint_ns': '', 'checkpoint_id': '1f078238-8565-626a-8006-53dad008565f'}}, metadata={'source': 'loop', 'step': 6, 'parents': {}}, created_at='2025-08-13T08:57:25.503224+00:00', parent_config={'configurable': {'thread_id': '2', 'checkpoint_ns': '', 'checkpoint_id': '1f078238-5578-6004-8005-843f61dfad3b'}}, tasks=(), interrupts=()),\n",
       " StateSnapshot(values={'topic': 'pasta', 'joke': 'What do you call a fake noodle?  \\n**An impasta**[1][2][4].\\n\\nOther pasta jokes you might enjoy include:\\n- Why did the pasta get invited to every party? Because he’s a little *spaghetti*![2]\\n- Did you hear about the Italian chef who died? He **pasta way**[1][2].\\n- Where does pasta go to dance? The **meatball**[1][2].\\n- How do you say goodbye to an Italian chef? **Pasta la vista!**[2]\\n\\nThese jokes use puns with popular pasta names and Italian food terms for humorous effect.', 'explaination': 'The joke \"What do you call a fake noodle? **An impasta**\" is a pun that blends the words **impostor** (someone pretending to be something they\\'re not) and **pasta** (the Italian food, which includes noodles)[1][2][5][3]. \\n\\nThe humor comes from:\\n- Calling a *fake noodle* an \"impasta,\" which sounds almost identical to \"impostor,\" suggesting the noodle is pretending to be real pasta.\\n- The play on words is typical of a \"dad joke,\" relying on simple punning and word substitution for the punchline[3].\\n\\nIn summary, the joke is funny because it uses *wordplay*: \"impasta\" = \"impostor\" + \"pasta\"[1][2][5].'}, next=('generate_explaination',), config={'configurable': {'thread_id': '2', 'checkpoint_ns': '', 'checkpoint_id': '1f078238-5578-6004-8005-843f61dfad3b'}}, metadata={'source': 'loop', 'step': 5, 'parents': {}}, created_at='2025-08-13T08:57:20.477768+00:00', parent_config={'configurable': {'thread_id': '2', 'checkpoint_ns': '', 'checkpoint_id': '1f078238-3676-62d7-8004-7cd2a3c8e67d'}}, tasks=(PregelTask(id='24dd5c06-62e1-3651-7fda-6580ec03a040', name='generate_explaination', path=('__pregel_pull', 'generate_explaination'), error=None, interrupts=(), state=None, result={'explaination': 'The joke \"What do you call a fake noodle? **An impasta**\" is a pun that combines the words **impostor** (someone pretending to be something they aren\\'t) and **pasta** (such as noodles)[1][2][4]. The humor comes from the wordplay: a \"fake noodle\" sounds like \"impostor,\" and since pasta refers to noodles, the pun \"impasta\" fits both meanings.\\n\\nThis joke is an example of a **dad joke**, which typically features simple wordplay or puns for lighthearted humor[3]. Other similar pasta puns include:\\n\\n- **He pasta way**: Replaces \"passed away\" with \"pasta\" for a food-themed twist[1][2].\\n- **Pasta la vista!**: A play on \"Hasta la vista,\" using \"pasta\" instead[2].\\n- **Meatball**: Where pasta goes to dance—the \"ball\" becomes a \"meatball\"[1][2].\\n- *Spaghetti*: \"He’s a little spaghetti\" twists the pasta name with the phrase \"a little go-getter\" or similar[2].\\n\\nThese jokes rely on familiar **pasta names** and **food-related terms**, creating amusing puns by substituting them into common English phrases or words for comic effect.'}),), interrupts=()),\n",
       " StateSnapshot(values={'topic': 'pasta', 'joke': 'What do you call a fake noodle? **An impasta**[1].', 'explaination': 'The joke \"What do you call a fake noodle? **An impasta**\" is a pun that blends the words **impostor** (someone pretending to be something they\\'re not) and **pasta** (the Italian food, which includes noodles)[1][2][5][3]. \\n\\nThe humor comes from:\\n- Calling a *fake noodle* an \"impasta,\" which sounds almost identical to \"impostor,\" suggesting the noodle is pretending to be real pasta.\\n- The play on words is typical of a \"dad joke,\" relying on simple punning and word substitution for the punchline[3].\\n\\nIn summary, the joke is funny because it uses *wordplay*: \"impasta\" = \"impostor\" + \"pasta\"[1][2][5].'}, next=('generate_joke',), config={'configurable': {'thread_id': '2', 'checkpoint_ns': '', 'checkpoint_id': '1f078238-3676-62d7-8004-7cd2a3c8e67d'}}, metadata={'source': 'loop', 'step': 4, 'parents': {}}, created_at='2025-08-13T08:57:17.226429+00:00', parent_config={'configurable': {'thread_id': '2', 'checkpoint_ns': '', 'checkpoint_id': '1f078238-3667-6283-8003-2737cbf5ae66'}}, tasks=(PregelTask(id='c31148a2-268d-917f-2904-496f6f4f82cb', name='generate_joke', path=('__pregel_pull', 'generate_joke'), error=None, interrupts=(), state=None, result={'joke': 'What do you call a fake noodle?  \\n**An impasta**[1][2][4].\\n\\nOther pasta jokes you might enjoy include:\\n- Why did the pasta get invited to every party? Because he’s a little *spaghetti*![2]\\n- Did you hear about the Italian chef who died? He **pasta way**[1][2].\\n- Where does pasta go to dance? The **meatball**[1][2].\\n- How do you say goodbye to an Italian chef? **Pasta la vista!**[2]\\n\\nThese jokes use puns with popular pasta names and Italian food terms for humorous effect.'}),), interrupts=()),\n",
       " StateSnapshot(values={'topic': 'pasta', 'joke': 'What do you call a fake noodle? **An impasta**[1].', 'explaination': 'The joke \"What do you call a fake noodle? **An impasta**\" is a pun that blends the words **impostor** (someone pretending to be something they\\'re not) and **pasta** (the Italian food, which includes noodles)[1][2][5][3]. \\n\\nThe humor comes from:\\n- Calling a *fake noodle* an \"impasta,\" which sounds almost identical to \"impostor,\" suggesting the noodle is pretending to be real pasta.\\n- The play on words is typical of a \"dad joke,\" relying on simple punning and word substitution for the punchline[3].\\n\\nIn summary, the joke is funny because it uses *wordplay*: \"impasta\" = \"impostor\" + \"pasta\"[1][2][5].'}, next=('__start__',), config={'configurable': {'thread_id': '2', 'checkpoint_ns': '', 'checkpoint_id': '1f078238-3667-6283-8003-2737cbf5ae66'}}, metadata={'source': 'input', 'step': 3, 'parents': {}}, created_at='2025-08-13T08:57:17.220279+00:00', parent_config={'configurable': {'thread_id': '2', 'checkpoint_ns': '', 'checkpoint_id': '1f078237-a8b2-6150-8002-56679e35df9f'}}, tasks=(PregelTask(id='d4585f06-1a11-dd17-8848-5da59b8d5d1b', name='__start__', path=('__pregel_pull', '__start__'), error=None, interrupts=(), state=None, result={'topic': 'pasta'}),), interrupts=()),\n",
       " StateSnapshot(values={'topic': 'pasta', 'joke': 'What do you call a fake noodle? **An impasta**[1].', 'explaination': 'The joke \"What do you call a fake noodle? **An impasta**\" is a pun that blends the words **impostor** (someone pretending to be something they\\'re not) and **pasta** (the Italian food, which includes noodles)[1][2][5][3]. \\n\\nThe humor comes from:\\n- Calling a *fake noodle* an \"impasta,\" which sounds almost identical to \"impostor,\" suggesting the noodle is pretending to be real pasta.\\n- The play on words is typical of a \"dad joke,\" relying on simple punning and word substitution for the punchline[3].\\n\\nIn summary, the joke is funny because it uses *wordplay*: \"impasta\" = \"impostor\" + \"pasta\"[1][2][5].'}, next=(), config={'configurable': {'thread_id': '2', 'checkpoint_ns': '', 'checkpoint_id': '1f078237-a8b2-6150-8002-56679e35df9f'}}, metadata={'source': 'loop', 'step': 2, 'parents': {}}, created_at='2025-08-13T08:57:02.361209+00:00', parent_config={'configurable': {'thread_id': '2', 'checkpoint_ns': '', 'checkpoint_id': '1f078237-7f34-63dd-8001-21c2573f5f70'}}, tasks=(), interrupts=()),\n",
       " StateSnapshot(values={'topic': 'pasta', 'joke': 'What do you call a fake noodle? **An impasta**[1].'}, next=('generate_explaination',), config={'configurable': {'thread_id': '2', 'checkpoint_ns': '', 'checkpoint_id': '1f078237-7f34-63dd-8001-21c2573f5f70'}}, metadata={'source': 'loop', 'step': 1, 'parents': {}}, created_at='2025-08-13T08:56:58.010503+00:00', parent_config={'configurable': {'thread_id': '2', 'checkpoint_ns': '', 'checkpoint_id': '1f078237-6958-611c-8000-09da9c3916e9'}}, tasks=(PregelTask(id='109b2e65-9951-3bc6-3cee-7a51d8db9611', name='generate_explaination', path=('__pregel_pull', 'generate_explaination'), error=None, interrupts=(), state=None, result={'explaination': 'The joke \"What do you call a fake noodle? **An impasta**\" is a pun that blends the words **impostor** (someone pretending to be something they\\'re not) and **pasta** (the Italian food, which includes noodles)[1][2][5][3]. \\n\\nThe humor comes from:\\n- Calling a *fake noodle* an \"impasta,\" which sounds almost identical to \"impostor,\" suggesting the noodle is pretending to be real pasta.\\n- The play on words is typical of a \"dad joke,\" relying on simple punning and word substitution for the punchline[3].\\n\\nIn summary, the joke is funny because it uses *wordplay*: \"impasta\" = \"impostor\" + \"pasta\"[1][2][5].'}),), interrupts=()),\n",
       " StateSnapshot(values={'topic': 'pasta'}, next=('generate_joke',), config={'configurable': {'thread_id': '2', 'checkpoint_ns': '', 'checkpoint_id': '1f078237-6958-611c-8000-09da9c3916e9'}}, metadata={'source': 'loop', 'step': 0, 'parents': {}}, created_at='2025-08-13T08:56:55.718295+00:00', parent_config={'configurable': {'thread_id': '2', 'checkpoint_ns': '', 'checkpoint_id': '1f078237-6949-6b45-bfff-1585cad96a6e'}}, tasks=(PregelTask(id='5db220d1-b0c9-9e9d-9e53-54e8a23856fc', name='generate_joke', path=('__pregel_pull', 'generate_joke'), error=None, interrupts=(), state=None, result={'joke': 'What do you call a fake noodle? **An impasta**[1].'}),), interrupts=()),\n",
       " StateSnapshot(values={}, next=('__start__',), config={'configurable': {'thread_id': '2', 'checkpoint_ns': '', 'checkpoint_id': '1f078237-6949-6b45-bfff-1585cad96a6e'}}, metadata={'source': 'input', 'step': -1, 'parents': {}}, created_at='2025-08-13T08:56:55.712413+00:00', parent_config=None, tasks=(PregelTask(id='821bec70-dfe4-7775-ff1d-1f8e176abcf9', name='__start__', path=('__pregel_pull', '__start__'), error=None, interrupts=(), state=None, result={'topic': 'pasta'}),), interrupts=())]"
      ]
     },
     "execution_count": 27,
     "metadata": {},
     "output_type": "execute_result"
    }
   ],
   "source": [
    "list(workflow.get_state_history(config2))"
   ]
  }
 ],
 "metadata": {
  "kernelspec": {
   "display_name": "myenv (3.13.5)",
   "language": "python",
   "name": "python3"
  },
  "language_info": {
   "codemirror_mode": {
    "name": "ipython",
    "version": 3
   },
   "file_extension": ".py",
   "mimetype": "text/x-python",
   "name": "python",
   "nbconvert_exporter": "python",
   "pygments_lexer": "ipython3",
   "version": "3.13.5"
  }
 },
 "nbformat": 4,
 "nbformat_minor": 5
}
