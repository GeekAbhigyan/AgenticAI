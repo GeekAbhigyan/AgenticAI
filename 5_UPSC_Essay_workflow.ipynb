{
 "cells": [
  {
   "cell_type": "code",
   "execution_count": 18,
   "id": "f37ce3ef",
   "metadata": {},
   "outputs": [],
   "source": [
    "from langgraph.graph import StateGraph, START , END\n",
    "from langchain_openai import ChatOpenAI\n",
    "from typing import TypedDict , Annotated\n",
    "from dotenv import load_dotenv\n",
    "from pydantic import BaseModel , Field\n",
    "import operator\n"
   ]
  },
  {
   "cell_type": "code",
   "execution_count": 19,
   "id": "716393b6",
   "metadata": {},
   "outputs": [
    {
     "data": {
      "text/plain": [
       "True"
      ]
     },
     "execution_count": 19,
     "metadata": {},
     "output_type": "execute_result"
    }
   ],
   "source": [
    "load_dotenv()"
   ]
  },
  {
   "cell_type": "code",
   "execution_count": 20,
   "id": "74837f17",
   "metadata": {},
   "outputs": [],
   "source": [
    "import os\n",
    "api_key = os.environ.get(\"PERPLEXITY_API_KEY\")\n"
   ]
  },
  {
   "cell_type": "code",
   "execution_count": 21,
   "id": "51e0084e",
   "metadata": {},
   "outputs": [],
   "source": [
    "model = ChatOpenAI(\n",
    "    api_key=api_key,\n",
    "    base_url=\"https://api.perplexity.ai\",\n",
    "    model=\"sonar-pro\"  # or another supported Perplexity model\n",
    ")"
   ]
  },
  {
   "cell_type": "code",
   "execution_count": 22,
   "id": "93575b35",
   "metadata": {},
   "outputs": [],
   "source": [
    "class EvaluationSchema(BaseModel):\n",
    "    feedback: str = Field(description = 'detailed feedback for essay')\n",
    "    score:int = Field(description='Score out of 10', ge = 0 , le= 10)"
   ]
  },
  {
   "cell_type": "code",
   "execution_count": 23,
   "id": "62600b3a",
   "metadata": {},
   "outputs": [],
   "source": [
    "structured_model = model.with_structured_output(EvaluationSchema)"
   ]
  },
  {
   "cell_type": "code",
   "execution_count": 24,
   "id": "1ab512f1",
   "metadata": {},
   "outputs": [],
   "source": [
    "essay = \"\"\"The Role of India in Artificial Intelligence: Shaping the Present and Future\n",
    "\n",
    "In the past decade, India has emerged as a vital, dynamic force in the global landscape of artificial intelligence (AI). Once seen as a technology consumer, India is now an innovator, ecosystem builder, and advocate for democratized, responsible AI. This remarkable trajectory stems from a unique confluence of government vision, entrepreneurial energy, world-class talent, and the country’s emphasis on inclusivity and public good.\n",
    "\n",
    "1. Vision and Strategy: Democratizing AI for All\n",
    "Unlike approaches centered solely on commerce or military use, India’s strategy roots itself in “AI for All”—seeking to ensure access, opportunity, and benefit across all strata of society. The government’s IndiaAI Mission (launched in 2024 with over ₹10,300 crore committed over five years) is constructing one of the world’s strongest foundations for AI, from massive GPU compute infrastructure to high-quality, anonymized datasets. Programs like Centres of Excellence in AI, the IndiaAI Dataset Platform (AIKosh), and public-good initiatives reinforce this approach, making advanced AI hardware and data accessible to startups, researchers, and students, not just tech giants or a privileged few.\n",
    "\n",
    "India’s Digital Public Infrastructure serves as a global model by combining public funding and private innovation: foundational digital platforms like Aadhaar, UPI, and DigiLocker are now being “supercharged” with AI, inspiring adoption around the world.\n",
    "\n",
    "2. Fostering Innovation and Indigenous Foundations\n",
    "India’s push to develop homegrown foundational AI models is gaining momentum. The IndiaAI Innovation Initiative invites startups, labs, and academic researchers to build Large Language Models (LLMs) and domain-specific solutions tailored to India’s 23 major languages and distinctive societal needs. This not only addresses global challenges of linguistic diversity and cultural nuance in AI, but also fosters strategic autonomy—reducing reliance on foreign AI models.\n",
    "\n",
    "More than 500 proposals for foundational models have been submitted by Indian startups and researchers in 2025 alone—an extraordinary outpouring of grassroots innovation.\n",
    "\n",
    "3. Talent Engine and Global Influence\n",
    "India boasts the highest AI skill penetration in the world, and a talent pipeline growing at breakneck speed. With over 420,000 AI professionals and widespread upskilling programs, India is recognized as a global AI talent hub. The affordable, abundant talent pool enables Indian startups not only to serve the domestic market but to create AI products for the world—making India the second-largest contributor to GitHub AI projects.\n",
    "\n",
    "4. Economic and Societal Impact\n",
    "By 2025, India’s AI sector is expected to contribute $500 billion to GDP, with industry bodies and global consultancies predicting millions of new, high-value jobs in the coming decade. AI is already transforming sectors crucial to India’s development: smart agriculture, affordable healthcare, inclusive education, urban planning, and secure financial services. As a “third way” between East and West, India’s AI model balances growth ambition with an ethos of ethical and inclusive AI, and carbon-neutral digital progress.\n",
    "\n",
    "5. Global Engagement and Responsible AI\n",
    "India is deeply engaged in shaping international AI norms. As co-chair of the Global Partnership on AI and through forums like the AI Governance Alliance, India champions “ethics by design,” data privacy safeguards, and AI for social good. Initiatives like RAISE (Responsible AI for Social Empowerment) exemplify this stance.\n",
    "\n",
    "6. Challenges and the Road Ahead\n",
    "India’s massive scale presents both opportunity and challenge. While there is a surge in innovation, addressing ethical, privacy, and security concerns, as well as bridging the digital skills gap, remain ongoing priorities. The government continues to invest in upskilling; legal frameworks are being adapted to keep pace with technology.\n",
    "\n",
    "Conclusion\n",
    "India’s role in artificial intelligence is no longer peripheral—it is central, visionary, and deeply human-centric. By combining indigenous innovation with global collaboration and ethical leadership, India is not only transforming its economy and society but also offering an inclusive, responsible model for the world as AI reshapes humanity’s future\"\"\""
   ]
  },
  {
   "cell_type": "code",
   "execution_count": 25,
   "id": "324f41ab",
   "metadata": {},
   "outputs": [
    {
     "data": {
      "text/plain": [
       "'Overall assessment: Clear, confident, and well-structured prose with strong cohesion and varied sentence craft. Tone is professional and persuasive. However, the essay occasionally overreaches with unsubstantiated superlatives, includes a few punctuation/formatting inconsistencies, and could improve concision, evidence attribution, and hedging. Below is targeted language feedback.\\n\\nStrengths\\n- Organization and flow\\n  - Logical macro-structure with numbered sections and an effective introduction-to-conclusion arc.\\n  - Clear section headers that align with claims, aiding readability.\\n- Style and clarity\\n  - Consistently precise, reader-friendly sentences with good verb choices (e.g., “emerged,” “supercharged,” “fosters”).\\n  - Effective use of parallelism and thematic repetition (“AI for All,” “responsible AI”) to reinforce key messages.\\n  - Strong topic sentences and transitions maintain coherence between paragraphs.\\n- Tone and register\\n  - Professional, confident, and policy-brief-like; suitable for an informed general audience.\\n  - Persuasive without being florid; avoids jargon overload and defines ideas contextually.\\n- Variety and cadence\\n  - Mix of simple and complex sentences keeps rhythm engaging.\\n  - Concrete examples (Aadhaar, UPI, DigiLocker; IndiaAI Mission; RAISE) anchor the narrative.\\n\\nAreas to improve\\n- Evidence signals and attribution\\n  - Several quantitative claims lack attribution, weakening credibility even if accurate. Examples:\\n    - “over ₹10,300 crore committed over five years”\\n    - “More than 500 proposals … in 2025 alone”\\n    - “over 420,000 AI professionals,” “second-largest contributor to GitHub AI projects”\\n    - “$500 billion to GDP by 2025,” “millions of new, high-value jobs”\\n  - Suggestion: Add inline citations or qualify with “according to [organization/report, year]” to maintain authority.\\n\\n- Hedging and precision\\n  - Phrases like “one of the world’s strongest foundations,” “global model,” “third way” read as promotional without qualifiers. Consider moderating to “a leading,” “widely-cited,” or provide brief comparative anchors.\\n\\n- Concision and redundancy\\n  - Some repetition of themes (democratization, inclusivity, responsible AI). Tighten by merging overlapping sentences and trimming intensifiers (“remarkable,” “extraordinary,” “at breakneck speed”).\\n\\n- Balance and nuance\\n  - The challenges section is comparatively brief and generic. From a language perspective, broad terms (“ongoing priorities,” “being adapted”) reduce specificity and weaken closure. Use more concrete phrasing and parallel specificity to the earlier sections.\\n\\n- Formatting and mechanics\\n  - Numbered headers are good, but maintain consistent capitalization: e.g., “Vision and Strategy: Democratizing AI for All” vs others should follow the same Title Case style.\\n  - Minor punctuation issues:\\n    - Consider an em dash or comma adjustment for some long opening sentences to avoid breathless delivery.\\n    - Ensure consistent use of en dashes vs hyphens (e.g., “human-centric” vs “human centric” – you used “human-centric” consistently, which is good; keep it consistent elsewhere like “world-class”).\\n  - Final sentence missing terminal punctuation (period after “future”).\\n\\n- Claims that might overreach chronologically\\n  - “More than 500 proposals … in 2025 alone” and several time-bound superlatives should be anchored to month/quarter for clarity. From a language standpoint, temporal precision improves credibility.\\n\\nLine-level suggestions (representative)\\n- Intro: “Once seen as a technology consumer, India is now an innovator, ecosystem builder, and advocate for democratized, responsible AI.” Consider: “Once primarily a technology consumer, India is now an innovator, ecosystem builder, and advocate of democratized, responsible AI.”\\n- Section 1: “is constructing one of the world’s strongest foundations for AI” → “is building a leading national foundation for AI” (less hyperbolic).\\n- Section 2: “This not only addresses… but also fosters strategic autonomy—reducing reliance…” → Good structure; consider “both…and” for parallelism: “both addresses… and fosters strategic autonomy, reducing reliance…”\\n- Section 3: “growing at breakneck speed” → “growing rapidly” (more neutral). “second-largest contributor to GitHub AI projects” → add “by X metric, year” or soften: “among the top contributors.”\\n- Section 4: “By 2025, India’s AI sector is expected to contribute $500 billion to GDP” → add source attribution or rephrase: “Analysts have estimated contributions approaching $500 billion by 2025; estimates vary.”\\n- Section 5: “exemplify this stance” → “exemplifies this stance” (subject-verb agreement matches singular “RAISE”).\\n- Conclusion: Add missing period and consider removing the em-dash for a smoother cadence: “India’s role in artificial intelligence is no longer peripheral; it is central, visionary, and human-centric.”\\n\\nHigher-impact rewrite sample (excerpt)\\n- Original: “India’s Digital Public Infrastructure serves as a global model by combining public funding and private innovation: foundational digital platforms like Aadhaar, UPI, and DigiLocker are now being ‘supercharged’ with AI, inspiring adoption around the world.”\\n- Suggested: “India’s Digital Public Infrastructure—combining public funding with private innovation—has become a widely cited model. Foundational platforms such as Aadhaar, UPI, and DigiLocker are being augmented with AI, informing similar initiatives internationally.”\\n\\nPolish checklist\\n- Add attribution for all statistics and superlatives.\\n- Reduce intensifiers and maintain neutral, precise diction.\\n- Ensure consistent title case and hyphenation.\\n- Expand the challenges paragraph with two to three concrete, parallel examples to balance tone.\\n- Fix the missing final period and review for comma splices in longer sentences.\\n\\nNet: Strong, polished prose with persuasive clarity; modest tightening and sourcing will elevate it to publication-grade quality.'"
      ]
     },
     "execution_count": 25,
     "metadata": {},
     "output_type": "execute_result"
    }
   ],
   "source": [
    "prompt = f'Evaluate the language quality of the following essay and provide a feedback and assign a score out of 10 \\n {essay}'\n",
    "structured_model.invoke(prompt).feedback"
   ]
  },
  {
   "cell_type": "code",
   "execution_count": 26,
   "id": "9d31c70d",
   "metadata": {},
   "outputs": [],
   "source": [
    "class UPSCState(TypedDict):\n",
    "    essay : str\n",
    "    language_feedback:str\n",
    "    analysis_feedback:str\n",
    "    clarity_feedback: str\n",
    "    overall_feedback:str\n",
    "    individual_scores:Annotated[list[int], operator.add] #reducer function\n",
    "    avg_score: float"
   ]
  },
  {
   "cell_type": "code",
   "execution_count": 27,
   "id": "341c6ab1",
   "metadata": {},
   "outputs": [],
   "source": [
    "def evaluate_language(state:UPSCState):\n",
    "    prompt = f'Evaluate the language quality of the following essay and provide a feedback and assign a score out of 10 \\n {state[\"essay\"]}'\n",
    "    output = structured_model.invoke(prompt)\n",
    "\n",
    "    return {'language_feedback':output.feedback , 'individual_scores':[output.score]}\n"
   ]
  },
  {
   "cell_type": "code",
   "execution_count": 28,
   "id": "9d1b7841",
   "metadata": {},
   "outputs": [],
   "source": [
    "def evaluate_analysis(state:UPSCState):\n",
    "    prompt = f'Evaluate the  depth of analysis of the following essay and provide a feedback and assign a score out of 10 \\n {state[\"essay\"]}'\n",
    "    output = structured_model.invoke(prompt)\n",
    "\n",
    "    return {'analysis_feedback':output.feedback , 'individual_scores':[output.score]}\n"
   ]
  },
  {
   "cell_type": "code",
   "execution_count": 29,
   "id": "c2c092ea",
   "metadata": {},
   "outputs": [],
   "source": [
    "def evaluate_thought(state:UPSCState):\n",
    "    prompt = f'Evaluate the clarity of thought of the following essay and provide a feedback and assign a score out of 10 \\n {state[\"essay\"]}'\n",
    "    output = structured_model.invoke(prompt)\n",
    "\n",
    "    return {'clarity_feedback':output.feedback , 'individual_scores':[output.score]}\n"
   ]
  },
  {
   "cell_type": "code",
   "execution_count": 30,
   "id": "08f8c146",
   "metadata": {},
   "outputs": [],
   "source": [
    "def final_evaluation(state:UPSCState):\n",
    "    #summary feedback \n",
    "\n",
    "    prompt = f'based on the following feedbacks create a summarised feedback \\n language feedback - {state['language_feedback']} ,depth of analysis feedback - {state['analysis_feedback']} , clarity of thought feedback - {state['clarity_feedback']}'\n",
    "    overall_feedback = model.invoke(prompt).content\n",
    "\n",
    "    # avg calculation \n",
    "\n",
    "    avg_score = sum(state['individual_scores']) / len(state['individual_scores'])\n",
    "\n",
    "    return {'overall_feedback':overall_feedback ,'avg_score':avg_score}"
   ]
  },
  {
   "cell_type": "code",
   "execution_count": 31,
   "id": "a5e11a9f",
   "metadata": {},
   "outputs": [],
   "source": [
    "# create the graph \n",
    "graph = StateGraph(UPSCState)\n",
    "\n",
    "#add the nodes \n",
    "graph.add_node('evauate_language',evaluate_language)\n",
    "graph.add_node('evaluate_analysis',evaluate_analysis)\n",
    "graph.add_node('evaluate_thought',evaluate_thought)\n",
    "graph.add_node('final_evaluation',final_evaluation)\n",
    "\n",
    "# add the edges \n",
    "graph.add_edge(START , 'evauate_language')\n",
    "graph.add_edge(START , 'evaluate_analysis')\n",
    "graph.add_edge(START , 'evaluate_thought')\n",
    "graph.add_edge('evauate_language','final_evaluation')\n",
    "graph.add_edge('evaluate_analysis','final_evaluation')\n",
    "graph.add_edge('evaluate_thought','final_evaluation')\n",
    "graph.add_edge('final_evaluation',END)\n",
    "\n",
    "\n",
    "# excute the graph \n",
    "workflow = graph.compile()"
   ]
  },
  {
   "cell_type": "code",
   "execution_count": 32,
   "id": "01151016",
   "metadata": {},
   "outputs": [
    {
     "data": {
      "image/png": "[encoded data removed]",
      "text/plain": [
       "<langgraph.graph.state.CompiledStateGraph object at 0x00000199C24B3390>"
      ]
     },
     "execution_count": 32,
     "metadata": {},
     "output_type": "execute_result"
    }
   ],
   "source": [
    "workflow"
   ]
  },
  {
   "cell_type": "code",
   "execution_count": 33,
   "id": "8290f65b",
   "metadata": {},
   "outputs": [],
   "source": [
    "essay2 = \"\"\"AI is like robots and computers that can think by themselves. In India, AI is getting more famous. I think in the future lots of people will use AI for many things. AI can help in school to do homework and even talk to us when no friends are there. Sometimes, AI can play games with us and tell us funny jokes, but sometimes it says weird things. My papa said AI can drive cars and maybe fix houses. AI also helps doctors to cure sick people and helps police catch bad guys, maybe.\n",
    "\n",
    "In India, AI will make everything better and easier. People will not need to go to work because AI will do all the work. Farmers will use robot cows and robot tractors because AI knows how to plant seeds. If someone is lazy, AI can do work for them and we can play more and watch cartoons more. In the future, maybe we have robot teachers and flying cars in all cities. AI is super smart but sometimes gets confused if we ask hard questions.\n",
    "\n",
    "My friend says AI is dangerous but I think it is nice because it tells me stories and helps me count candies. One day, maybe everyone will have a robot friend with AI and we will never be bored.\n",
    "\n",
    "That is why I think AI is good and will help people in India. I don’t know much but maybe AI will make everyone happy, and nobody will have to do boring things anymore.'\"\"\""
   ]
  },
  {
   "cell_type": "code",
   "execution_count": 34,
   "id": "3e68d89b",
   "metadata": {},
   "outputs": [
    {
     "data": {
      "text/plain": [
       "{'essay': \"AI is like robots and computers that can think by themselves. In India, AI is getting more famous. I think in the future lots of people will use AI for many things. AI can help in school to do homework and even talk to us when no friends are there. Sometimes, AI can play games with us and tell us funny jokes, but sometimes it says weird things. My papa said AI can drive cars and maybe fix houses. AI also helps doctors to cure sick people and helps police catch bad guys, maybe.\\n\\nIn India, AI will make everything better and easier. People will not need to go to work because AI will do all the work. Farmers will use robot cows and robot tractors because AI knows how to plant seeds. If someone is lazy, AI can do work for them and we can play more and watch cartoons more. In the future, maybe we have robot teachers and flying cars in all cities. AI is super smart but sometimes gets confused if we ask hard questions.\\n\\nMy friend says AI is dangerous but I think it is nice because it tells me stories and helps me count candies. One day, maybe everyone will have a robot friend with AI and we will never be bored.\\n\\nThat is why I think AI is good and will help people in India. I don’t know much but maybe AI will make everyone happy, and nobody will have to do boring things anymore.'\",\n",
       " 'language_feedback': 'Overall assessment: The essay uses simple, mostly grammatical sentences and clear, accessible vocabulary, but it relies heavily on repetition, informal tone, and speculative claims. It lacks coherence markers, paragraph unity, and precise word choice expected in academic or formal writing. The language quality is elementary and suitable for a young writer, but it needs significant development to meet standard rubric expectations for organization, cohesion, register, and lexical variety.[3][5]\\n\\nStrengths\\n- Clarity and readability: Short sentences are easy to understand; basic syntax is correct most of the time.[5]\\n- Consistent topic focus: Stays on the topic of AI and its future uses, especially in India.[5]\\n- Engaging voice: Expresses personal views and curiosity, which supports reader engagement.[3]\\n\\nKey issues to improve\\n- Register and tone: The language is highly informal and conversational (e.g., “papa,” “bad guys,” “robot cows,” “watch cartoons”), which is inappropriate for an academic essay; replace colloquialisms with neutral terms.[3]\\n- Organization and cohesion: Ideas are listed rather than developed. Paragraphs lack a clear central idea and logical progression; transitions and cohesive devices are minimal (“First, Furthermore, However, In contrast”).[3][5]\\n- Precision and word choice: Overuse of vague modals and hedges (“maybe,” “I think,” “will make everything better”) weakens claims; specify realistic, defined applications and avoid overgeneralization.[3]\\n- Development and support: Assertions are unsupported and sometimes fantastical (e.g., “people will not need to go to work,” “robot cows”), which undermines credibility; add concrete, plausible examples and brief explanations.[3]\\n- Repetition: Repeats similar points about AI being “good,” “super smart,” “helpful,” without adding new information; vary content and expand ideas with reasons and evidence.[5]\\n- Mechanics and sentence variety: Mostly simple sentences; add compound/complex structures, vary openings, and combine related ideas for flow; check punctuation around coordinating conjunctions.[5]\\n\\nSuggested revisions (sample rewrites)\\n- Introduce a clear, neutral thesis: “This essay evaluates how artificial intelligence may affect education, healthcare, and work in India.”[5]\\n- Improve cohesion: “First, in education, AI tools can support homework by providing explanations. However, they can also give incorrect answers, so teacher supervision is important.”[3][5]\\n- Replace colloquialisms: “father” for “papa”; “criminals” for “bad guys”; “conversational agents” or “chatbots” for “talk to us.”[3]\\n- Increase precision: Avoid absolute claims like “people will not need to go to work”; use balanced phrasing such as “AI may automate some routine tasks, but many jobs will still require human judgment.”[3]\\n\\nLanguage checklist for improvement\\n- Use topic sentences per paragraph and ensure each paragraph develops one idea with supporting details.[5]\\n- Add transition words to link ideas logically (e.g., “Moreover,” “In addition,” “Nevertheless,” “For example”).[3]\\n- Reduce hedging and exaggeration; use measured, evidence-based statements.[3]\\n- Expand vocabulary related to AI (e.g., “automation,” “machine learning,” “diagnostic support,” “autonomous vehicles,” “data privacy”).[3]\\n- Vary sentence structures: combine short sentences, use relative clauses, and include cause–effect and contrast constructions.[5]\\n\\nAppropriate audience level\\n- Current language level aligns with early learner/elementary writing. To reach secondary or introductory academic standards, prioritize structure, register, and lexical precision as above.[3][5]\\n',\n",
       " 'analysis_feedback': 'Direct answer: The essay shows minimal depth of analysis. It relies on broad generalizations, personal anecdotes, and unsubstantiated predictions rather than defined arguments, evidence, or nuanced evaluation.\\n\\nWhat works\\n- Clear stance: The author believes AI is “good” and beneficial for India, which provides a recognizable viewpoint.\\n- Simple, accessible language: Ideas are easy to follow for a young audience.\\n- Relevance: Focuses on AI’s potential uses in everyday life (education, healthcare, transportation, policing, farming), keeping to the topic.\\n\\nDepth of analysis (areas to improve)\\n- Thesis precision: The main claim (“AI is good and will help people in India”) is vague and not framed as an arguable, specific thesis (e.g., which sectors, what timeline, what trade-offs).\\n- Evidence and support: Assertions are based on hearsay (“my papa said,” “my friend says”) and speculation (“maybe,” “will make everything better”). There are no data, examples from credible sources, or real-world Indian case studies (e.g., AI in agriculture advisories, telemedicine triage, traffic management) to substantiate claims.\\n- Analytical rigor: The piece lists possibilities (robot teachers, flying cars, robot cows) without evaluating feasibility, costs, constraints, or unintended consequences. There is no causal reasoning (how AI produces the stated benefits) or comparison to alternatives.\\n- Counterarguments and balance: Risks are mentioned only to dismiss them. There is no engagement with known challenges (job displacement in specific sectors, bias in policing or healthcare AI, data privacy, infrastructure gaps, regulation, digital divide in rural India) or any mitigation strategies.\\n- Scope realism: Several claims are unrealistic or science‑fictional (flying cars in all cities, robot cows; “people will not need to go to work”), which weakens credibility. Distinguish near‑term, evidence‑based applications from speculative futures.\\n- Organization and coherence: The essay reads as a stream of loosely connected ideas. It lacks a structured progression (introduction with a focused thesis; body paragraphs with topic sentences, evidence, and analysis; conclusion that synthesizes insights).\\n- Precision and definitions: “AI is like robots and computers that can think by themselves” conflates AI software with physical robots and anthropomorphizes AI. Provide a concise, accurate definition and separate AI from robotics, automation, and autonomous systems.\\n- Audience and tone: Childlike tone may be intentional, but for an analytical essay, adopt neutral, objective language and reduce first‑person anecdotes unless used strategically.\\n\\nActionable suggestions\\n- Refine the thesis: “In the next 5–10 years, AI will most positively impact India’s agriculture and healthcare by improving yield forecasting and diagnostic triage, but it will require investment in digital infrastructure and guardrails to prevent bias.”\\n- Use evidence: Incorporate at least 2–3 concrete, cited examples (e.g., AI-driven crop advisory pilots, telemedicine triage tools in Indian hospitals, traffic signal optimization in Bengaluru, AI for TB screening). Include brief data points (adoption rates, accuracy improvements, cost/time savings).\\n- Analyze trade‑offs: Discuss potential job displacement for routine tasks, upskilling needs, risks of biased policing tools, and data protection; propose mitigations (skilling programs, procurement standards, human‑in‑the‑loop oversight, audits).\\n- Structure the argument: \\n  - Paragraph 1: Define AI clearly and state your focused thesis.\\n  - Paragraphs 2–3: Sector analyses (education, healthcare, agriculture) with examples, benefits, limitations, and feasibility in India’s context.\\n  - Paragraph 4: Risks and counterarguments with mitigation strategies.\\n  - Conclusion: Weigh net impact and conditions needed for benefits.\\n- Improve clarity and precision: Replace speculative “maybe” claims with measured, sourced statements; avoid sci‑fi elements unless labeled as long‑term speculation.\\n- Language and mechanics: Vary sentence structure and reduce repetition; replace colloquialisms with formal wording.\\n\\nExample rewrite of the opening\\n“Artificial intelligence (AI) refers to software systems that perform tasks such as pattern recognition, prediction, and decision support without being explicitly programmed for each case. In India, AI is already used in crop advisory services and medical image screening. Over the next decade, AI can improve agricultural yields and healthcare access if India invests in digital infrastructure, workforce training, and safeguards against bias.”\\n\\nOverall: The essay demonstrates understanding at a surface level but lacks analysis, evidence, and structure expected for an evaluative or argumentative piece.',\n",
       " 'clarity_feedback': 'Overall clarity of thought: The essay expresses a simple, positive view of AI but lacks a clear, focused thesis and coherent reasoning. The ideas are presented as a series of loosely connected impressions and predictions rather than a structured argument.\\n\\nWhat works\\n- Voice and accessibility: The language is straightforward and easy to follow for a general or young audience.\\n- Consistent viewpoint: The author’s stance (“AI is good and will help people in India”) is maintained throughout.\\n- Concrete examples: Mentions of homework help, jokes, driving cars, helping doctors/police, robot teachers, and robot tractors give the reader tangible images.\\n\\nIssues reducing clarity of thought\\n- Weak thesis and purpose: The central claim appears at the end and is vague; the introduction does not set a clear line of reasoning or scope.\\n- Logical coherence: Paragraphs jump between uses of AI, exaggerated predictions (robot cows, everyone stops working), and personal anecdotes without transitions or a logical progression (e.g., problem → how AI helps → limits/caveats → conclusion).\\n- Overgeneralization and speculation: Many absolute or fantastical claims (“people will not need to go to work,” “robot cows,” “everyone will be happy”) are presented without justification, which blurs the essay’s argument and weakens credibility.\\n- Ambiguity and hedging: Frequent use of “maybe” and secondhand claims (“my papa said,” “my friend says”) create uncertainty and dilute the main point.\\n- Limited consideration of counterpoints: The mention that a friend thinks AI is dangerous isn’t explored; no reasoning is provided to address concerns or balance the view.\\n- Repetition and redundancy: Similar ideas recur (AI helps with jokes/games, robot friends, happiness) without adding new reasoning.\\n\\nHow to improve clarity\\n- Start with a precise thesis: For example, “AI will improve education and agriculture in India over the next decade, but it will not replace all human work.”\\n- Organize by 2–3 focused areas: e.g., Education, Healthcare, and Agriculture. For each, give 1–2 realistic examples and explain how/why they help.\\n- Use clear topic sentences and transitions: Signal shifts in ideas and connect them logically.\\n- Support claims with simple reasoning or basic evidence: Replace hearsay with brief explanations (e.g., “AI can help doctors by analyzing medical images quickly”).\\n- Acknowledge limits: Briefly note risks or challenges (jobs changing, errors, need for human oversight) and respond to them.\\n- Trim speculation: Avoid extreme predictions unless you explain the path from today to that future.\\n\\nExample rewrite of one paragraph (for model):\\n“AI can make schoolwork easier by giving students practice questions and explanations, but teachers still need to check understanding. In hospitals, AI can help read scans faster so doctors can focus on treatment. On farms, smart sensors and guided tractors can help plant and water more efficiently. These tools can save time, but people still make important decisions.”\\n',\n",
       " 'overall_feedback': 'The essay is clear and readable but remains elementary in language, surface‑level in analysis, and loosely organized; to reach an academic standard, it needs a precise thesis, formal register, logical structure with topic sentences and transitions, evidence‑based claims, and more varied, precise language.[5][1]\\n\\nKey strengths\\n- Consistent focus on AI’s future uses in India and an engaging, accessible voice that helps readability.[5]  \\n- Clear stance that AI is beneficial, with concrete (if simplistic) examples that keep the topic relatable.[5]\\n\\nPriority issues to address\\n- Language and register: Replace colloquialisms and childlike phrasing with neutral, formal terms; expand AI‑related vocabulary and reduce hedging and exaggeration.[3][1]  \\n- Organization and cohesion: Move from a list of ideas to structured paragraphs with topic sentences, transitions, and paragraph unity; ensure logical progression from claim to support to implication.[5][2]  \\n- Precision and credibility: Avoid vague or fantastical claims; define AI accurately (distinct from robots), specify realistic applications, and use measured language.[3]  \\n- Depth of analysis: Formulate a focused, arguable thesis; support points with credible, cited examples (e.g., Indian case studies), explain causal mechanisms, consider feasibility and trade‑offs, and address counterarguments (bias, jobs, privacy, infrastructure).[3]  \\n- Sentence variety and mechanics: Combine short sentences, use compound/complex structures, vary openings, and check punctuation for flow and clarity.[2][5]\\n\\nActionable next steps\\n- Thesis and structure: Start with a precise, balanced thesis (scope, sectors, timeline); organize 2–3 body sections by sector (e.g., education, healthcare, agriculture) with benefits, limits, feasibility in India; add a risks/mitigations paragraph; end with conditions for impact.[5]  \\n- Evidence: Replace hearsay with brief, cited data or examples from reputable sources; use neutral phrasing instead of absolute predictions.[1]  \\n- Language upgrades: Substitute informal terms (“papa,” “bad guys”) with formal equivalents; adopt discipline‑relevant vocabulary (automation, machine learning, diagnostic support, data privacy) and reduce repetition.[3]  \\n- Clarity tools: Use topic sentences, transitions (Moreover, Nevertheless, For example), and cause–effect or contrast constructions to link ideas cleanly.[5][2]\\n\\nModel elements to emulate\\n- Thesis: “This essay evaluates how artificial intelligence may affect education, healthcare, and work in India over the next decade.”[5]  \\n- Cohesion: “First, in education, AI tools can support homework by providing explanations. However, they can also give incorrect answers, so teacher supervision is important.”[3][5]\\n\\nOverall: The piece shows a consistent viewpoint and accessibility but lacks the organization, formal register, precision, evidence, and analytical rigor expected in academic writing. Focusing on structure, credible support, and measured, precise language will substantially improve quality.[5][1]',\n",
       " 'individual_scores': [3, 4, 4],\n",
       " 'avg_score': 3.6666666666666665}"
      ]
     },
     "execution_count": 34,
     "metadata": {},
     "output_type": "execute_result"
    }
   ],
   "source": [
    "initial_state = {\n",
    "    'essay':essay2\n",
    "}\n",
    "\n",
    "workflow.invoke(initial_state)"
   ]
  }
 ],
 "metadata": {
  "kernelspec": {
   "display_name": "myenv (3.13.5)",
   "language": "python",
   "name": "python3"
  },
  "language_info": {
   "codemirror_mode": {
    "name": "ipython",
    "version": 3
   },
   "file_extension": ".py",
   "mimetype": "text/x-python",
   "name": "python",
   "nbconvert_exporter": "python",
   "pygments_lexer": "ipython3",
   "version": "3.13.5"
  }
 },
 "nbformat": 4,
 "nbformat_minor": 5
}
