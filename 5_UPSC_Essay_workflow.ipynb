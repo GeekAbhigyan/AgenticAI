{
 "cells": [
  {
   "cell_type": "code",
   "execution_count": 76,
   "id": "f37ce3ef",
   "metadata": {},
   "outputs": [],
   "source": [
    "from langgraph.graph import StateGraph, START , END\n",
    "from langchain_openai import ChatOpenAI\n",
    "from typing import TypedDict\n",
    "from dotenv import load_dotenv\n",
    "from pydantic import BaseModel , Field\n",
    "import operator\n"
   ]
  },
  {
   "cell_type": "code",
   "execution_count": 77,
   "id": "716393b6",
   "metadata": {},
   "outputs": [
    {
     "data": {
      "text/plain": [
       "True"
      ]
     },
     "execution_count": 77,
     "metadata": {},
     "output_type": "execute_result"
    }
   ],
   "source": [
    "load_dotenv()"
   ]
  },
  {
   "cell_type": "code",
   "execution_count": 78,
   "id": "74837f17",
   "metadata": {},
   "outputs": [],
   "source": [
    "import os\n",
    "api_key = os.environ.get(\"PERPLEXITY_API_KEY\")\n"
   ]
  },
  {
   "cell_type": "code",
   "execution_count": 79,
   "id": "51e0084e",
   "metadata": {},
   "outputs": [],
   "source": [
    "model = ChatOpenAI(\n",
    "    api_key=api_key,\n",
    "    base_url=\"https://api.perplexity.ai\",\n",
    "    model=\"sonar-pro\"  # or another supported Perplexity model\n",
    ")"
   ]
  },
  {
   "cell_type": "code",
   "execution_count": 80,
   "id": "93575b35",
   "metadata": {},
   "outputs": [],
   "source": [
    "class EvaluationSchema(BaseModel):\n",
    "    feedback: str = Field(description = 'detailed feedback for essay')\n",
    "    score:int = Field(description='Score out of 10', getattr = 0 , le= 10)"
   ]
  },
  {
   "cell_type": "code",
   "execution_count": 81,
   "id": "62600b3a",
   "metadata": {},
   "outputs": [],
   "source": [
    "structured_model = model.with_structured_output(EvaluationSchema)"
   ]
  },
  {
   "cell_type": "code",
   "execution_count": 82,
   "id": "1ab512f1",
   "metadata": {},
   "outputs": [],
   "source": [
    "essay = \"\"\"The Role of India in Artificial Intelligence: Shaping the Present and Future\n",
    "\n",
    "In the past decade, India has emerged as a vital, dynamic force in the global landscape of artificial intelligence (AI). Once seen as a technology consumer, India is now an innovator, ecosystem builder, and advocate for democratized, responsible AI. This remarkable trajectory stems from a unique confluence of government vision, entrepreneurial energy, world-class talent, and the country’s emphasis on inclusivity and public good.\n",
    "\n",
    "1. Vision and Strategy: Democratizing AI for All\n",
    "Unlike approaches centered solely on commerce or military use, India’s strategy roots itself in “AI for All”—seeking to ensure access, opportunity, and benefit across all strata of society. The government’s IndiaAI Mission (launched in 2024 with over ₹10,300 crore committed over five years) is constructing one of the world’s strongest foundations for AI, from massive GPU compute infrastructure to high-quality, anonymized datasets. Programs like Centres of Excellence in AI, the IndiaAI Dataset Platform (AIKosh), and public-good initiatives reinforce this approach, making advanced AI hardware and data accessible to startups, researchers, and students, not just tech giants or a privileged few.\n",
    "\n",
    "India’s Digital Public Infrastructure serves as a global model by combining public funding and private innovation: foundational digital platforms like Aadhaar, UPI, and DigiLocker are now being “supercharged” with AI, inspiring adoption around the world.\n",
    "\n",
    "2. Fostering Innovation and Indigenous Foundations\n",
    "India’s push to develop homegrown foundational AI models is gaining momentum. The IndiaAI Innovation Initiative invites startups, labs, and academic researchers to build Large Language Models (LLMs) and domain-specific solutions tailored to India’s 23 major languages and distinctive societal needs. This not only addresses global challenges of linguistic diversity and cultural nuance in AI, but also fosters strategic autonomy—reducing reliance on foreign AI models.\n",
    "\n",
    "More than 500 proposals for foundational models have been submitted by Indian startups and researchers in 2025 alone—an extraordinary outpouring of grassroots innovation.\n",
    "\n",
    "3. Talent Engine and Global Influence\n",
    "India boasts the highest AI skill penetration in the world, and a talent pipeline growing at breakneck speed. With over 420,000 AI professionals and widespread upskilling programs, India is recognized as a global AI talent hub. The affordable, abundant talent pool enables Indian startups not only to serve the domestic market but to create AI products for the world—making India the second-largest contributor to GitHub AI projects.\n",
    "\n",
    "4. Economic and Societal Impact\n",
    "By 2025, India’s AI sector is expected to contribute $500 billion to GDP, with industry bodies and global consultancies predicting millions of new, high-value jobs in the coming decade. AI is already transforming sectors crucial to India’s development: smart agriculture, affordable healthcare, inclusive education, urban planning, and secure financial services. As a “third way” between East and West, India’s AI model balances growth ambition with an ethos of ethical and inclusive AI, and carbon-neutral digital progress.\n",
    "\n",
    "5. Global Engagement and Responsible AI\n",
    "India is deeply engaged in shaping international AI norms. As co-chair of the Global Partnership on AI and through forums like the AI Governance Alliance, India champions “ethics by design,” data privacy safeguards, and AI for social good. Initiatives like RAISE (Responsible AI for Social Empowerment) exemplify this stance.\n",
    "\n",
    "6. Challenges and the Road Ahead\n",
    "India’s massive scale presents both opportunity and challenge. While there is a surge in innovation, addressing ethical, privacy, and security concerns, as well as bridging the digital skills gap, remain ongoing priorities. The government continues to invest in upskilling; legal frameworks are being adapted to keep pace with technology.\n",
    "\n",
    "Conclusion\n",
    "India’s role in artificial intelligence is no longer peripheral—it is central, visionary, and deeply human-centric. By combining indigenous innovation with global collaboration and ethical leadership, India is not only transforming its economy and society but also offering an inclusive, responsible model for the world as AI reshapes humanity’s future\"\"\""
   ]
  },
  {
   "cell_type": "code",
   "execution_count": 83,
   "id": "324f41ab",
   "metadata": {},
   "outputs": [
    {
     "data": {
      "text/plain": [
       "\"The essay demonstrates a high level of language quality overall, with clear, sophisticated, and varied sentence structures. The vocabulary is advanced yet accessible, and the tone matches the serious, analytical nature of the topic. Transitions between paragraphs are smooth, with clear thematic progression. Each section maintains focus and coherence, and technical terms are explained within context, aiding understanding. There are minimal grammatical errors, if any. The introduction effectively sets the scene, while the conclusion provides a strong summative statement without unnecessary repetition. Some sentences, especially those in statistics-heavy sections, could be streamlined for conciseness, and a few phrases (like 'grassroots innovation') might benefit from precise quantification, but these are minor issues. Occasional use of complex, multi-clause sentences could impact readability for some audiences, but overall, the piece maintains clarity and flow. The essay excels at combining factual detail with analysis, making it suitable for an educated general audience.\""
      ]
     },
     "execution_count": 83,
     "metadata": {},
     "output_type": "execute_result"
    }
   ],
   "source": [
    "prompt = f'Evaluate the language quality of the following essay and provide a feedback and assign a score out of 10 \\n {essay}'\n",
    "structured_model.invoke(prompt).feedback"
   ]
  },
  {
   "cell_type": "code",
   "execution_count": 84,
   "id": "9d31c70d",
   "metadata": {},
   "outputs": [
    {
     "ename": "NameError",
     "evalue": "name 'Annotated' is not defined",
     "output_type": "error",
     "traceback": [
      "\u001b[31m---------------------------------------------------------------------------\u001b[39m",
      "\u001b[31mNameError\u001b[39m                                 Traceback (most recent call last)",
      "\u001b[36mCell\u001b[39m\u001b[36m \u001b[39m\u001b[32mIn[84]\u001b[39m\u001b[32m, line 1\u001b[39m\n\u001b[32m----> \u001b[39m\u001b[32m1\u001b[39m \u001b[38;5;28;43;01mclass\u001b[39;49;00m\u001b[38;5;250;43m \u001b[39;49m\u001b[34;43;01mUPSCState\u001b[39;49;00m\u001b[43m(\u001b[49m\u001b[43mTypedDict\u001b[49m\u001b[43m)\u001b[49m\u001b[43m:\u001b[49m\n\u001b[32m      2\u001b[39m \u001b[43m    \u001b[49m\u001b[43messay\u001b[49m\u001b[43m \u001b[49m\u001b[43m:\u001b[49m\u001b[43m \u001b[49m\u001b[38;5;28;43mstr\u001b[39;49m\n\u001b[32m      3\u001b[39m \u001b[43m    \u001b[49m\u001b[43mlanguage_feedback\u001b[49m\u001b[43m:\u001b[49m\u001b[38;5;28;43mstr\u001b[39;49m\n",
      "\u001b[36mCell\u001b[39m\u001b[36m \u001b[39m\u001b[32mIn[84]\u001b[39m\u001b[32m, line 7\u001b[39m, in \u001b[36mUPSCState\u001b[39m\u001b[34m()\u001b[39m\n\u001b[32m      5\u001b[39m clarity_feedback: \u001b[38;5;28mstr\u001b[39m\n\u001b[32m      6\u001b[39m overall_feedback:\u001b[38;5;28mstr\u001b[39m\n\u001b[32m----> \u001b[39m\u001b[32m7\u001b[39m individual_scores:\u001b[43mAnnotated\u001b[49m[\u001b[38;5;28mlist\u001b[39m[\u001b[38;5;28mint\u001b[39m], operator.add]\n\u001b[32m      8\u001b[39m average_score: \u001b[38;5;28mfloat\u001b[39m\n",
      "\u001b[31mNameError\u001b[39m: name 'Annotated' is not defined"
     ]
    }
   ],
   "source": [
    "class UPSCState(TypedDict):\n",
    "    essay : str\n",
    "    language_feedback:str\n",
    "    analysis_feedback:str\n",
    "    clarity_feedback: str\n",
    "    overall_feedback:str\n",
    "    individual_scores:Annotated[list[int], operator.add]\n",
    "    average_score: float"
   ]
  },
  {
   "cell_type": "code",
   "execution_count": null,
   "id": "a5e11a9f",
   "metadata": {},
   "outputs": [],
   "source": []
  }
 ],
 "metadata": {
  "kernelspec": {
   "display_name": "myenv (3.13.5)",
   "language": "python",
   "name": "python3"
  },
  "language_info": {
   "codemirror_mode": {
    "name": "ipython",
    "version": 3
   },
   "file_extension": ".py",
   "mimetype": "text/x-python",
   "name": "python",
   "nbconvert_exporter": "python",
   "pygments_lexer": "ipython3",
   "version": "3.13.5"
  }
 },
 "nbformat": 4,
 "nbformat_minor": 5
}
