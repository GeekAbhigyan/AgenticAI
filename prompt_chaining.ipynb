{
 "cells": [
  {
   "cell_type": "code",
   "execution_count": 43,
   "id": "3b9fd7d3",
   "metadata": {},
   "outputs": [],
   "source": [
    "from langgraph.graph import StateGraph, START , END\n",
    "from langchain_openai import ChatOpenAI\n",
    "from typing import TypedDict\n",
    "from dotenv import load_dotenv"
   ]
  },
  {
   "cell_type": "code",
   "execution_count": 44,
   "id": "48f52f2c",
   "metadata": {},
   "outputs": [
    {
     "data": {
      "text/plain": [
       "True"
      ]
     },
     "execution_count": 44,
     "metadata": {},
     "output_type": "execute_result"
    }
   ],
   "source": [
    "load_dotenv()"
   ]
  },
  {
   "cell_type": "code",
   "execution_count": 45,
   "id": "83188b60",
   "metadata": {},
   "outputs": [],
   "source": [
    "import os\n",
    "api_key = os.environ.get(\"PERPLEXITY_API_KEY\")\n"
   ]
  },
  {
   "cell_type": "code",
   "execution_count": 46,
   "id": "d20a7e3d",
   "metadata": {},
   "outputs": [],
   "source": [
    "model = ChatOpenAI(\n",
    "    api_key=api_key,\n",
    "    base_url=\"https://api.perplexity.ai\",\n",
    "    model=\"sonar\"  # or another supported Perplexity model\n",
    ")"
   ]
  },
  {
   "cell_type": "code",
   "execution_count": 47,
   "id": "667fb60f",
   "metadata": {},
   "outputs": [],
   "source": [
    "#create a state\n",
    "\n",
    "class BlogState(TypedDict):\n",
    "    title: str\n",
    "    outline:str\n",
    "    content:str\n",
    "    evaluate: int\n",
    "\n",
    "\n"
   ]
  },
  {
   "cell_type": "code",
   "execution_count": 48,
   "id": "81605c00",
   "metadata": {},
   "outputs": [],
   "source": [
    "def create_outline(state: BlogState)-> BlogState:\n",
    "    #fetch title \n",
    "    title = state[\"title\"]\n",
    "    \n",
    "    # call LLm gen Outline \n",
    "    prompt = f'Generate a detailed outline for the blog on the topic - {title}'\n",
    "    outline = model.invoke(prompt).content\n",
    "\n",
    "    # update state \n",
    "    state['outline'] = outline \n",
    "\n",
    "    return state\n"
   ]
  },
  {
   "cell_type": "code",
   "execution_count": 49,
   "id": "510f6c41",
   "metadata": {},
   "outputs": [],
   "source": [
    "def create_blog(state : BlogState)-> BlogState :\n",
    "    title = state['title']\n",
    "    outline = state['outline']\n",
    "\n",
    "    prompt = f'write a detailed blog on the title -{title} using the following outline \\n {outline}'\n",
    "\n",
    "    content = model.invoke(prompt).content\n",
    "\n",
    "    state['content'] = content\n",
    "\n",
    "    return state"
   ]
  },
  {
   "cell_type": "code",
   "execution_count": 50,
   "id": "4b700140",
   "metadata": {},
   "outputs": [],
   "source": [
    "def evaluate_blog(state:BlogState)-> BlogState:\n",
    "    outline = state['outline']\n",
    "    content = state['content']\n",
    "\n",
    "    prompt = f'with the content of the bolg -{content} , and outlines -{outline} evaluate the blog and give a score out of 100'\n",
    "\n",
    "    evaluate =model.invoke(prompt).content\n",
    "\n",
    "    state['evaluate'] = evaluate\n",
    "\n",
    "    return state"
   ]
  },
  {
   "cell_type": "code",
   "execution_count": 51,
   "id": "2f4cc9ee",
   "metadata": {},
   "outputs": [],
   "source": [
    "#create a graph \n",
    "graph = StateGraph(BlogState)\n",
    "\n",
    "#add nodes \n",
    "graph.add_node('create_outline', create_outline)\n",
    "graph.add_node('create_blog', create_blog)\n",
    "graph.add_node('evaluate_blog',evaluate_blog)\n",
    "\n",
    "#add deges \n",
    "graph.add_edge(START , 'create_outline')\n",
    "graph.add_edge('create_outline','create_blog')\n",
    "graph.add_edge('create_blog','evaluate_blog')\n",
    "graph.add_edge('evaluate_blog',END)\n",
    "\n",
    "#execute\n",
    "workflow = graph.compile()\n",
    "\n"
   ]
  },
  {
   "cell_type": "code",
   "execution_count": 52,
   "id": "345a89cc",
   "metadata": {},
   "outputs": [
    {
     "name": "stdout",
     "output_type": "stream",
     "text": [
      "{'title': 'Rise of AI In India', 'outline': 'Here is a detailed outline for a blog on the topic \"Rise of AI in India\":\\n\\n1. **Introduction**\\n   - Overview of Artificial Intelligence (AI) and its global significance.\\n   - Brief introduction to India’s role in the AI revolution.\\n   - Purpose and significance of the blog (to explore India’s AI growth trajectory, infrastructure, investments, and future prospects).\\n\\n2. **Current Landscape of AI in India**\\n   - Market size and growth projections: India’s AI market projected to reach approximately USD 7.8 billion by 2025 with a CAGR of about 26% through 2031[2][5].\\n   - Key sectors driving AI adoption: Industrials & Automotive, Healthcare, Retail, Consumer Packaged Goods (CPG), Banking, Financial Services and Insurance (BFSI), and Agri-tech[2][4].\\n   - Rise in AI startups and investments: Annual growth in startups by 38.46% from 2019 to 2024; cumulative AI investments hitting USD 2.25 billion by mid-2024[2].\\n   - Increase in demand for AI and Machine Learning professionals by 38%, highlighting the skill gap and employment opportunities[1].\\n\\n3. **Government Initiatives and Policy Support**\\n   - IndiaAI Mission: government investments aimed at enhancing AI research, innovation, and infrastructure across industries[1].\\n   - Union Budget 2025 highlights: emphasis on digital infrastructure expansion, supporting AI and data science platforms[1].\\n   - Supportive policies fostering an AI ecosystem, including digital frameworks and funding for AI-related projects.\\n\\n4. **Infrastructure and Investment Trends**\\n   - Growth of data centers as a backbone of AI development: US$60 billion invested in data centers by 2024, with projections exceeding US$100 billion by 2027[3].\\n   - Key investment hubs: Mumbai, Chennai, Noida, Bengaluru, Hyderabad, and Pune; Mumbai accounts for nearly half of IT power capacity[3].\\n   - Scale of infrastructure expansion: hyperscale data center land acquisitions and capacity growth of 139% since 2019[3].\\n\\n5. **Sector-wise AI Applications and Impact**\\n   - Industrials and Automotive: automation, optimization, predictive maintenance[2][4].\\n   - Healthcare: diagnostics, personalized treatment, and AI-driven drug discovery[2][4].\\n   - Retail and Consumer Goods: customer insights, supply chain optimization[2].\\n   - BFSI and Agri-tech: financial analytics, risk management, precision agriculture[2][4].\\n   - Emerging AI fields: Generative AI adoption growing rapidly in Indian markets[2].\\n\\n6. **Challenges and Opportunities**\\n   - Challenges: talent shortage, data privacy issues, infrastructure deficits in some regions, and regulatory hurdles[2][3].\\n   - Opportunities: huge domestic market, increasing global investments, growing startup ecosystem[2][3].\\n   - Potential to become a global AI hub due to skilled workforce and cost advantages.\\n\\n7. **The Future of AI in India**\\n   - Projected contribution of AI to India’s economy (potentially adding USD 400 billion by 2030)[3].\\n   - Expected technological trends including enhanced semiconductor development as AI backbone[4].\\n   - Prospects for AI-driven innovation in emerging sectors.\\n   - India’s positioning in the global AI race and its leadership potential.\\n\\n8. **Conclusion**\\n   - Recap of India’s rapid AI progress backed by government policies, infrastructure, and market growth.\\n   - The broad impact of AI across industry and society in India.\\n   - Final thoughts on sustaining growth through innovation, investment, education, and policy.\\n\\nThis outline integrates the latest data and trends from multiple authoritative sources, ensuring a comprehensive and structured view of the rise of AI in India[1][2][3][4][5].', 'content': 'Artificial Intelligence (AI) has emerged as a transformative force globally, reshaping industries, economies, and daily life through advanced data-driven decision-making and automation. India, with its vast talent pool and rapidly digitizing economy, has positioned itself as a key player in this AI revolution. This blog explores India’s AI growth — examining the current landscape, government initiatives, infrastructure, sector impact, challenges, and future prospects.\\n\\nIndia’s AI market is experiencing robust growth, projected to reach around USD 7.8 billion by 2025, continuing at a compound annual growth rate (CAGR) of about 26% through 2031[2][5]. Industries such as industrials & automotive, healthcare, retail, consumer packaged goods (CPG), banking, financial services and insurance (BFSI), and agri-tech are leading AI adoption due to their vast operational scope and data needs[2][4]. The AI startup ecosystem in India is thriving, with annual startup growth at 38.46% from 2019 to 2024, and cumulative AI investments surpassing USD 2.25 billion by mid-2024[2]. This surge underscores the increased demand for AI and machine learning professionals, which has grown by 38%, revealing both opportunities and a skill gap in the workforce[1].\\n\\nThe Indian government has actively supported AI development through initiatives like the IndiaAI Mission, which focuses on bolstering AI research, innovation, and infrastructure across sectors[1]. The Union Budget 2025 further emphasized expanding digital infrastructure and backing AI and data science platforms, signaling strong policy support aimed at nurturing an AI ecosystem that includes robust frameworks and funding[1].\\n\\nThe growth of AI is underpinned by massive investments in physical infrastructure, notably data centers. India had attracted about US$60 billion in data center investments by 2024, with expectations to surpass US$100 billion by 2027[3]. Strategic hubs such as Mumbai, Chennai, Noida, Bengaluru, Hyderabad, and Pune lead these developments, with Mumbai alone representing nearly half of the country’s IT power capacity[3]. From 2019 onwards, the capacity of these centers has expanded by 139%, reflecting the scale required to handle AI workloads and cloud services[3].\\n\\nSector-wise, AI is driving significant impact:\\n\\n- **Industrials & Automotive:** Enhancing automation, optimizing processes, and enabling predictive maintenance that reduce downtime[2][4].\\n- **Healthcare:** Improving diagnostics, enabling personalized treatments, and accelerating AI-driven drug discovery[2][4].\\n- **Retail & Consumer Goods:** Leveraging customer insights and optimizing supply chains for efficiency[2].\\n- **BFSI & Agri-tech:** Utilizing financial analytics, improving risk management, and applying precision agriculture techniques to boost productivity[2][4].\\n- **Emerging AI Fields:** Adoption of generative AI is growing rapidly within Indian markets, opening new fronts for innovation[2].\\n\\nDespite these advances, India faces challenges such as a shortage of AI talent, data privacy concerns, uneven infrastructural development across regions, and regulatory complexities[2][3]. Nonetheless, India’s large domestic market, increasing global investments, and expanding startup ecosystem present immense opportunities. The country is well-positioned to become a global AI hub, leveraging its skilled workforce and cost efficiencies[2][3].\\n\\nLooking ahead, AI could contribute up to USD 400 billion to India’s economy by 2030[3]. Technological trends point toward enhanced semiconductor development, which will serve as a backbone for AI advancements[4]. AI-driven innovation is expected to accelerate across emerging sectors, reinforcing India’s competitive standing in the global AI race and potentially establishing leadership in the technology domain.\\n\\nIn summary, India’s rise in artificial intelligence is driven by a combination of government policies, growing market demand, investment in infrastructure, and sector-wise adoption. Sustaining this trajectory will require continued focus on innovation, education, investment, and supportive regulatory frameworks to fully realize AI’s transformative potential across industry and society[1][2][3][4][5].', 'evaluate': 'Based on the content and detailed outline provided for the blog \"Rise of AI in India,\" the blog is well-structured, comprehensive, and backed by up-to-date, authoritative data from credible sources. Here is an evaluation with scoring out of 100 across key criteria:\\n\\n1. **Content Accuracy and Currency (25/25):**  \\nThe blog uses latest market data and projections (e.g., market size reaching about USD 7.8 billion by 2025, CAGR around 26-27%, investments in data centers surpassing USD 60 billion by 2024) sourced from credible reports such as IMARC, GMI Research, and the UNCTAD 2025 Technology and Innovation Report[1][2][3]. It accurately reflects sectoral AI adoption and government initiatives like IndiaAI Mission and Union Budget 2025 support[1].\\n\\n2. **Structure and Organization (20/20):**  \\nThe outline is logically segmented into clear, thematic sections progressing from introduction, market landscape, government policy, infrastructure, sector impact, challenges, opportunities, to future outlook and conclusion. This ensures excellent readability and navigability for the audience.\\n\\n3. **Depth of Coverage (18/20):**  \\nThe blog covers multiple key aspects: market size, sector-specific adoption, startup ecosystem growth, government initiatives, data center infrastructure, challenges, and future projections. Inclusion of generative AI and semiconductor development shows awareness of emerging trends. It could enhance technical depth slightly by elaborating on AI models and algorithms or case studies.\\n\\n4. **Use of Credible and Diverse Sources (18/20):**  \\nThe blog is supported by diverse and authoritative sources spanning industry analysts, government data, international agencies, and market research firms[1][2][3][4][5]. It integrates numeric data and qualitative insights well, balancing breadth and specificity.\\n\\n5. **Language and Presentation (16/15):**  \\nThe blog’s language is clear, professional, and accessible with appropriate technical terminology. The outline suggests a well-rounded narrative flow. Minor improvements could focus on avoiding occasional redundancy and ensuring consistent style.\\n\\n**Total score: 97/100**\\n\\nThe blog is excellent in providing a thorough, accurate, and well-organized account of India’s AI growth trajectory. Its insightful use of current data, policy context, and sectoral analysis makes it highly informative for a professional or general audience interested in AI developments in India. Minor enhancements in technical detailing and style consistency could push it to a perfect score, but as is, it is a high-quality and authoritative piece.'}\n"
     ]
    }
   ],
   "source": [
    "initial_state= {'title': 'Rise of AI In India'}\n",
    "\n",
    "final_state = workflow.invoke(initial_state)\n",
    "\n",
    "print(final_state)"
   ]
  },
  {
   "cell_type": "code",
   "execution_count": 53,
   "id": "4b0a5348",
   "metadata": {},
   "outputs": [
    {
     "name": "stdout",
     "output_type": "stream",
     "text": [
      "Here is a detailed outline for a blog on the topic \"Rise of AI in India\":\n",
      "\n",
      "1. **Introduction**\n",
      "   - Overview of Artificial Intelligence (AI) and its global significance.\n",
      "   - Brief introduction to India’s role in the AI revolution.\n",
      "   - Purpose and significance of the blog (to explore India’s AI growth trajectory, infrastructure, investments, and future prospects).\n",
      "\n",
      "2. **Current Landscape of AI in India**\n",
      "   - Market size and growth projections: India’s AI market projected to reach approximately USD 7.8 billion by 2025 with a CAGR of about 26% through 2031[2][5].\n",
      "   - Key sectors driving AI adoption: Industrials & Automotive, Healthcare, Retail, Consumer Packaged Goods (CPG), Banking, Financial Services and Insurance (BFSI), and Agri-tech[2][4].\n",
      "   - Rise in AI startups and investments: Annual growth in startups by 38.46% from 2019 to 2024; cumulative AI investments hitting USD 2.25 billion by mid-2024[2].\n",
      "   - Increase in demand for AI and Machine Learning professionals by 38%, highlighting the skill gap and employment opportunities[1].\n",
      "\n",
      "3. **Government Initiatives and Policy Support**\n",
      "   - IndiaAI Mission: government investments aimed at enhancing AI research, innovation, and infrastructure across industries[1].\n",
      "   - Union Budget 2025 highlights: emphasis on digital infrastructure expansion, supporting AI and data science platforms[1].\n",
      "   - Supportive policies fostering an AI ecosystem, including digital frameworks and funding for AI-related projects.\n",
      "\n",
      "4. **Infrastructure and Investment Trends**\n",
      "   - Growth of data centers as a backbone of AI development: US$60 billion invested in data centers by 2024, with projections exceeding US$100 billion by 2027[3].\n",
      "   - Key investment hubs: Mumbai, Chennai, Noida, Bengaluru, Hyderabad, and Pune; Mumbai accounts for nearly half of IT power capacity[3].\n",
      "   - Scale of infrastructure expansion: hyperscale data center land acquisitions and capacity growth of 139% since 2019[3].\n",
      "\n",
      "5. **Sector-wise AI Applications and Impact**\n",
      "   - Industrials and Automotive: automation, optimization, predictive maintenance[2][4].\n",
      "   - Healthcare: diagnostics, personalized treatment, and AI-driven drug discovery[2][4].\n",
      "   - Retail and Consumer Goods: customer insights, supply chain optimization[2].\n",
      "   - BFSI and Agri-tech: financial analytics, risk management, precision agriculture[2][4].\n",
      "   - Emerging AI fields: Generative AI adoption growing rapidly in Indian markets[2].\n",
      "\n",
      "6. **Challenges and Opportunities**\n",
      "   - Challenges: talent shortage, data privacy issues, infrastructure deficits in some regions, and regulatory hurdles[2][3].\n",
      "   - Opportunities: huge domestic market, increasing global investments, growing startup ecosystem[2][3].\n",
      "   - Potential to become a global AI hub due to skilled workforce and cost advantages.\n",
      "\n",
      "7. **The Future of AI in India**\n",
      "   - Projected contribution of AI to India’s economy (potentially adding USD 400 billion by 2030)[3].\n",
      "   - Expected technological trends including enhanced semiconductor development as AI backbone[4].\n",
      "   - Prospects for AI-driven innovation in emerging sectors.\n",
      "   - India’s positioning in the global AI race and its leadership potential.\n",
      "\n",
      "8. **Conclusion**\n",
      "   - Recap of India’s rapid AI progress backed by government policies, infrastructure, and market growth.\n",
      "   - The broad impact of AI across industry and society in India.\n",
      "   - Final thoughts on sustaining growth through innovation, investment, education, and policy.\n",
      "\n",
      "This outline integrates the latest data and trends from multiple authoritative sources, ensuring a comprehensive and structured view of the rise of AI in India[1][2][3][4][5].\n"
     ]
    }
   ],
   "source": [
    "print(final_state['outline'])"
   ]
  },
  {
   "cell_type": "code",
   "execution_count": 54,
   "id": "35588ebc",
   "metadata": {},
   "outputs": [
    {
     "name": "stdout",
     "output_type": "stream",
     "text": [
      "Artificial Intelligence (AI) has emerged as a transformative force globally, reshaping industries, economies, and daily life through advanced data-driven decision-making and automation. India, with its vast talent pool and rapidly digitizing economy, has positioned itself as a key player in this AI revolution. This blog explores India’s AI growth — examining the current landscape, government initiatives, infrastructure, sector impact, challenges, and future prospects.\n",
      "\n",
      "India’s AI market is experiencing robust growth, projected to reach around USD 7.8 billion by 2025, continuing at a compound annual growth rate (CAGR) of about 26% through 2031[2][5]. Industries such as industrials & automotive, healthcare, retail, consumer packaged goods (CPG), banking, financial services and insurance (BFSI), and agri-tech are leading AI adoption due to their vast operational scope and data needs[2][4]. The AI startup ecosystem in India is thriving, with annual startup growth at 38.46% from 2019 to 2024, and cumulative AI investments surpassing USD 2.25 billion by mid-2024[2]. This surge underscores the increased demand for AI and machine learning professionals, which has grown by 38%, revealing both opportunities and a skill gap in the workforce[1].\n",
      "\n",
      "The Indian government has actively supported AI development through initiatives like the IndiaAI Mission, which focuses on bolstering AI research, innovation, and infrastructure across sectors[1]. The Union Budget 2025 further emphasized expanding digital infrastructure and backing AI and data science platforms, signaling strong policy support aimed at nurturing an AI ecosystem that includes robust frameworks and funding[1].\n",
      "\n",
      "The growth of AI is underpinned by massive investments in physical infrastructure, notably data centers. India had attracted about US$60 billion in data center investments by 2024, with expectations to surpass US$100 billion by 2027[3]. Strategic hubs such as Mumbai, Chennai, Noida, Bengaluru, Hyderabad, and Pune lead these developments, with Mumbai alone representing nearly half of the country’s IT power capacity[3]. From 2019 onwards, the capacity of these centers has expanded by 139%, reflecting the scale required to handle AI workloads and cloud services[3].\n",
      "\n",
      "Sector-wise, AI is driving significant impact:\n",
      "\n",
      "- **Industrials & Automotive:** Enhancing automation, optimizing processes, and enabling predictive maintenance that reduce downtime[2][4].\n",
      "- **Healthcare:** Improving diagnostics, enabling personalized treatments, and accelerating AI-driven drug discovery[2][4].\n",
      "- **Retail & Consumer Goods:** Leveraging customer insights and optimizing supply chains for efficiency[2].\n",
      "- **BFSI & Agri-tech:** Utilizing financial analytics, improving risk management, and applying precision agriculture techniques to boost productivity[2][4].\n",
      "- **Emerging AI Fields:** Adoption of generative AI is growing rapidly within Indian markets, opening new fronts for innovation[2].\n",
      "\n",
      "Despite these advances, India faces challenges such as a shortage of AI talent, data privacy concerns, uneven infrastructural development across regions, and regulatory complexities[2][3]. Nonetheless, India’s large domestic market, increasing global investments, and expanding startup ecosystem present immense opportunities. The country is well-positioned to become a global AI hub, leveraging its skilled workforce and cost efficiencies[2][3].\n",
      "\n",
      "Looking ahead, AI could contribute up to USD 400 billion to India’s economy by 2030[3]. Technological trends point toward enhanced semiconductor development, which will serve as a backbone for AI advancements[4]. AI-driven innovation is expected to accelerate across emerging sectors, reinforcing India’s competitive standing in the global AI race and potentially establishing leadership in the technology domain.\n",
      "\n",
      "In summary, India’s rise in artificial intelligence is driven by a combination of government policies, growing market demand, investment in infrastructure, and sector-wise adoption. Sustaining this trajectory will require continued focus on innovation, education, investment, and supportive regulatory frameworks to fully realize AI’s transformative potential across industry and society[1][2][3][4][5].\n"
     ]
    }
   ],
   "source": [
    "print(final_state['content'])"
   ]
  },
  {
   "cell_type": "code",
   "execution_count": 56,
   "id": "c180418d",
   "metadata": {},
   "outputs": [
    {
     "name": "stdout",
     "output_type": "stream",
     "text": [
      "Based on the content and detailed outline provided for the blog \"Rise of AI in India,\" the blog is well-structured, comprehensive, and backed by up-to-date, authoritative data from credible sources. Here is an evaluation with scoring out of 100 across key criteria:\n",
      "\n",
      "1. **Content Accuracy and Currency (25/25):**  \n",
      "The blog uses latest market data and projections (e.g., market size reaching about USD 7.8 billion by 2025, CAGR around 26-27%, investments in data centers surpassing USD 60 billion by 2024) sourced from credible reports such as IMARC, GMI Research, and the UNCTAD 2025 Technology and Innovation Report[1][2][3]. It accurately reflects sectoral AI adoption and government initiatives like IndiaAI Mission and Union Budget 2025 support[1].\n",
      "\n",
      "2. **Structure and Organization (20/20):**  \n",
      "The outline is logically segmented into clear, thematic sections progressing from introduction, market landscape, government policy, infrastructure, sector impact, challenges, opportunities, to future outlook and conclusion. This ensures excellent readability and navigability for the audience.\n",
      "\n",
      "3. **Depth of Coverage (18/20):**  \n",
      "The blog covers multiple key aspects: market size, sector-specific adoption, startup ecosystem growth, government initiatives, data center infrastructure, challenges, and future projections. Inclusion of generative AI and semiconductor development shows awareness of emerging trends. It could enhance technical depth slightly by elaborating on AI models and algorithms or case studies.\n",
      "\n",
      "4. **Use of Credible and Diverse Sources (18/20):**  \n",
      "The blog is supported by diverse and authoritative sources spanning industry analysts, government data, international agencies, and market research firms[1][2][3][4][5]. It integrates numeric data and qualitative insights well, balancing breadth and specificity.\n",
      "\n",
      "5. **Language and Presentation (16/15):**  \n",
      "The blog’s language is clear, professional, and accessible with appropriate technical terminology. The outline suggests a well-rounded narrative flow. Minor improvements could focus on avoiding occasional redundancy and ensuring consistent style.\n",
      "\n",
      "**Total score: 97/100**\n",
      "\n",
      "The blog is excellent in providing a thorough, accurate, and well-organized account of India’s AI growth trajectory. Its insightful use of current data, policy context, and sectoral analysis makes it highly informative for a professional or general audience interested in AI developments in India. Minor enhancements in technical detailing and style consistency could push it to a perfect score, but as is, it is a high-quality and authoritative piece.\n"
     ]
    }
   ],
   "source": [
    "print(final_state[\"evaluate\"])"
   ]
  }
 ],
 "metadata": {
  "kernelspec": {
   "display_name": "myenv (3.13.5)",
   "language": "python",
   "name": "python3"
  },
  "language_info": {
   "codemirror_mode": {
    "name": "ipython",
    "version": 3
   },
   "file_extension": ".py",
   "mimetype": "text/x-python",
   "name": "python",
   "nbconvert_exporter": "python",
   "pygments_lexer": "ipython3",
   "version": "3.13.5"
  }
 },
 "nbformat": 4,
 "nbformat_minor": 5
}
