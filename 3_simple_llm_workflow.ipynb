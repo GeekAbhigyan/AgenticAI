{
 "cells": [
  {
   "cell_type": "code",
   "execution_count": null,
   "id": "12bed668",
   "metadata": {},
   "outputs": [],
   "source": [
    "from langgraph.graph import StateGraph, START , END\n",
    "from langchain_openai import ChatOpenAI\n",
    "from typing import TypedDict\n",
    "from dotenv import load_dotenv"
   ]
  },
  {
   "cell_type": "code",
   "execution_count": 36,
   "id": "4daa52fe",
   "metadata": {},
   "outputs": [
    {
     "data": {
      "text/plain": [
       "True"
      ]
     },
     "execution_count": 36,
     "metadata": {},
     "output_type": "execute_result"
    }
   ],
   "source": [
    "load_dotenv()"
   ]
  },
  {
   "cell_type": "code",
   "execution_count": 37,
   "id": "236d8fb7",
   "metadata": {},
   "outputs": [],
   "source": [
    "import os\n",
    "api_key = os.environ.get(\"PERPLEXITY_API_KEY\")\n"
   ]
  },
  {
   "cell_type": "code",
   "execution_count": 38,
   "id": "b6f8fcda",
   "metadata": {},
   "outputs": [],
   "source": [
    "model = ChatOpenAI(\n",
    "    api_key=api_key,\n",
    "    base_url=\"https://api.perplexity.ai\",\n",
    "    model=\"sonar\"  # or another supported Perplexity model\n",
    ")\n"
   ]
  },
  {
   "cell_type": "code",
   "execution_count": 39,
   "id": "fa682497",
   "metadata": {},
   "outputs": [],
   "source": [
    "#create a state  \n",
    "class LLMState(TypedDict):\n",
    "\n",
    "    question : str\n",
    "    answer : str\n"
   ]
  },
  {
   "cell_type": "code",
   "execution_count": 40,
   "id": "396e364d",
   "metadata": {},
   "outputs": [],
   "source": [
    "def llm_qa(state : LLMState) -> LLMState: \n",
    "\n",
    "    # extract the question from state \n",
    "    question = state['question']\n",
    "\n",
    "    # form a prompt \n",
    "    prompt = f'Answer the following question {question}'\n",
    "\n",
    "    #ask the que to llm \n",
    "    answer = model.invoke(prompt).content\n",
    "\n",
    "    #update the answer in the state \n",
    "    state['answer'] = answer \n",
    "\n",
    "    return state"
   ]
  },
  {
   "cell_type": "code",
   "execution_count": 41,
   "id": "2f2a7305",
   "metadata": {},
   "outputs": [],
   "source": [
    "#create our graph \n",
    "graph = StateGraph(LLMState)\n",
    "\n",
    "# add nodes \n",
    "graph.add_node(\"llm_qa\", llm_qa)\n",
    "\n",
    "# add edges \n",
    "graph.add_edge(START ,'llm_qa' )\n",
    "graph.add_edge('llm_qa' , END)\n",
    "\n",
    "# compile our graph \n",
    "workflow = graph.compile()\n"
   ]
  },
  {
   "cell_type": "code",
   "execution_count": 42,
   "id": "8ac35724",
   "metadata": {},
   "outputs": [
    {
     "name": "stdout",
     "output_type": "stream",
     "text": [
      "The Moon is on average about 384,400 kilometers (238,855 miles) away from Earth. However, because the Moon’s orbit around Earth is elliptical, this distance varies from about 356,470 kilometers (221,500 miles) at its closest (perigee) to about 405,600 kilometers (252,000 miles) at its farthest (apogee)[1][2][3][4].\n",
      "\n",
      "This variation is due to the elliptical shape of the orbit, with an eccentricity of approximately 0.05, meaning the orbit is slightly oval rather than a perfect circle[3]. Light takes about 1.3 seconds to travel from the Moon to Earth because of this average distance[3].\n"
     ]
    }
   ],
   "source": [
    "#execute \n",
    "initial_state = {'question':'How far is moon from earth'}\n",
    "\n",
    "final_state = workflow.invoke(initial_state)\n",
    "\n",
    "print(final_state['answer'])"
   ]
  },
  {
   "cell_type": "code",
   "execution_count": 43,
   "id": "416b0b99",
   "metadata": {},
   "outputs": [
    {
     "data": {
      "text/plain": [
       "\"The Sun is on average about 93 million miles (150 million kilometers) away from Earth. This distance is also called 1 Astronomical Unit (AU), a standard unit used in astronomy to describe distances within the solar system[1][2][4][5].\\n\\nBecause Earth's orbit around the Sun is slightly elliptical, the distance varies throughout the year. At its closest point (perihelion), the Sun is about 91.4 million miles (147.1 million kilometers) away, and at its farthest point (aphelion), it is about 94.5 million miles (152.1 million kilometers)[1]. Currently, as of August 2025, the distance is about 151.7 million kilometers (around 1.014 AU)[3].\\n\\nLight from the Sun takes roughly 8 minutes and 20-26 seconds to reach Earth, traveling at about 186,000 miles (300,000 kilometers) per second[1][3][5].\""
      ]
     },
     "execution_count": 43,
     "metadata": {},
     "output_type": "execute_result"
    }
   ],
   "source": [
    "model.invoke('how far is sun from earth').content"
   ]
  }
 ],
 "metadata": {
  "kernelspec": {
   "display_name": "myenv (3.13.5)",
   "language": "python",
   "name": "python3"
  },
  "language_info": {
   "codemirror_mode": {
    "name": "ipython",
    "version": 3
   },
   "file_extension": ".py",
   "mimetype": "text/x-python",
   "name": "python",
   "nbconvert_exporter": "python",
   "pygments_lexer": "ipython3",
   "version": "3.13.5"
  }
 },
 "nbformat": 4,
 "nbformat_minor": 5
}
